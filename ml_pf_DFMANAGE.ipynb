{
 "cells": [
  {
   "cell_type": "markdown",
   "source": [
    "# Avaliação de Um Modelo de Redes Neurais Artificiais em Neonatologia\n",
    "Projeto final da Disciplina de Aprendizagem de Máquina - PPgEEC/UFRN\n",
    "\n",
    "### Notebook 1 - CONFECÇÃO E TREINAMENTO DE MODELO"
   ],
   "metadata": {
    "collapsed": false,
    "pycharm": {
     "name": "#%% md\n"
    }
   }
  },
  {
   "cell_type": "markdown",
   "source": [
    "### 1.  Configurações Iniciais"
   ],
   "metadata": {
    "collapsed": false,
    "pycharm": {
     "name": "#%% md\n"
    }
   }
  },
  {
   "cell_type": "code",
   "execution_count": 1,
   "outputs": [],
   "source": [
    "# Módulos\n",
    "import logging\n",
    "import wandb\n",
    "import pandas as pd\n",
    "import numpy as np\n",
    "import joblib\n",
    "import matplotlib.pyplot as plt\n",
    "from sklearn.model_selection import train_test_split\n",
    "from sklearn.neighbors import LocalOutlierFactor\n",
    "from sklearn.preprocessing import LabelEncoder\n",
    "from sklearn.preprocessing import OneHotEncoder\n",
    "from sklearn.base import BaseEstimator, TransformerMixin\n",
    "from sklearn.preprocessing import MinMaxScaler\n",
    "from sklearn.preprocessing import StandardScaler\n",
    "from sklearn.preprocessing import OneHotEncoder\n",
    "from sklearn.pipeline import Pipeline, FeatureUnion\n",
    "from sklearn.tree import DecisionTreeClassifier\n",
    "from sklearn.impute import SimpleImputer\n",
    "from sklearn.metrics import fbeta_score, precision_score, recall_score, accuracy_score\n",
    "from sklearn.metrics import classification_report\n",
    "from sklearn.metrics import confusion_matrix\n",
    "from sklearn.metrics import ConfusionMatrixDisplay\n",
    "from dotenv import load_dotenv\n",
    "import os\n",
    "\n",
    "%matplotlib inline"
   ],
   "metadata": {
    "collapsed": false,
    "pycharm": {
     "name": "#%%\n"
    }
   }
  },
  {
   "cell_type": "markdown",
   "source": [
    "### 2.  Variáveis Auxiliares"
   ],
   "metadata": {
    "collapsed": false,
    "pycharm": {
     "name": "#%% md\n"
    }
   }
  },
  {
   "cell_type": "code",
   "execution_count": 4,
   "outputs": [],
   "source": [
    "# Tamanho do conjunto de teste(fração do dataset que é utilizada como dados de teste)\n",
    "val_size = 0.3\n",
    "\n",
    "# Coeficiente de aleatoriedade\n",
    "seed = 1618\n",
    "\n",
    "# Variável alvo(target)\n",
    "stratify = 'reanimacao'\n",
    "\n",
    "# Artefato de entrada\n",
    "input_artifact = 'mlreanimacao/train.csv:latest'\n",
    "\n",
    "# Tipo do artefato\n",
    "artifact_type = 'Train'"
   ],
   "metadata": {
    "collapsed": false,
    "pycharm": {
     "name": "#%%\n"
    }
   }
  },
  {
   "cell_type": "markdown",
   "source": [
    "### 3. Aquisição de Artefatos"
   ],
   "metadata": {
    "collapsed": false,
    "pycharm": {
     "name": "#%% md\n"
    }
   }
  },
  {
   "cell_type": "code",
   "execution_count": 2,
   "outputs": [],
   "source": [
    "# Leitura de variáveis de ambiente\n",
    "load_dotenv('config.env')\n",
    "HASH_WANDB = os.getenv(\"HASH\")"
   ],
   "metadata": {
    "collapsed": false,
    "pycharm": {
     "name": "#%%\n"
    }
   }
  },
  {
   "cell_type": "code",
   "execution_count": 3,
   "outputs": [
    {
     "name": "stdout",
     "output_type": "stream",
     "text": [
      "\u001B[34m\u001B[1mwandb\u001B[0m: Appending key for api.wandb.ai to your netrc file: /Users/ericcalasans/.netrc\r\n"
     ]
    }
   ],
   "source": [
    "!wandb login $HASH_WANDB --relogin"
   ],
   "metadata": {
    "collapsed": false,
    "pycharm": {
     "name": "#%%\n"
    }
   }
  },
  {
   "cell_type": "markdown",
   "source": [
    "Configurações de Log"
   ],
   "metadata": {
    "collapsed": false,
    "pycharm": {
     "name": "#%% md\n"
    }
   }
  },
  {
   "cell_type": "code",
   "execution_count": 5,
   "outputs": [],
   "source": [
    "logging.basicConfig(level=logging.INFO,\n",
    "                    format=\"%(asctime)s %(message)s\",\n",
    "                    datefmt='%d-%m-%Y %H:%M:%S')\n",
    "\n",
    "# Objeto logging\n",
    "logger = logging.getLogger()"
   ],
   "metadata": {
    "collapsed": false,
    "pycharm": {
     "name": "#%%\n"
    }
   }
  },
  {
   "cell_type": "code",
   "execution_count": 7,
   "outputs": [
    {
     "data": {
      "text/plain": "<IPython.core.display.HTML object>",
      "text/html": "Finishing last run (ID:eedtne2o) before initializing another..."
     },
     "metadata": {},
     "output_type": "display_data"
    },
    {
     "data": {
      "text/plain": "<IPython.core.display.HTML object>",
      "text/html": "Waiting for W&B process to finish... <strong style=\"color:green\">(success).</strong>"
     },
     "metadata": {},
     "output_type": "display_data"
    },
    {
     "data": {
      "text/plain": "VBox(children=(Label(value='0.001 MB of 0.001 MB uploaded (0.000 MB deduped)\\r'), FloatProgress(value=1.0, max…",
      "application/vnd.jupyter.widget-view+json": {
       "version_major": 2,
       "version_minor": 0,
       "model_id": "17c90efbc40945ab8aa223311b63f478"
      }
     },
     "metadata": {},
     "output_type": "display_data"
    },
    {
     "data": {
      "text/plain": "<IPython.core.display.HTML object>",
      "text/html": "Synced <strong style=\"color:#cdcd00\">kind-thunder-192</strong>: <a href=\"https://wandb.ai/ecalasans/mlreanimacao/runs/eedtne2o\" target=\"_blank\">https://wandb.ai/ecalasans/mlreanimacao/runs/eedtne2o</a><br/>Synced 6 W&B file(s), 0 media file(s), 0 artifact file(s) and 0 other file(s)"
     },
     "metadata": {},
     "output_type": "display_data"
    },
    {
     "data": {
      "text/plain": "<IPython.core.display.HTML object>",
      "text/html": "Find logs at: <code>./wandb/run-20220701_054752-eedtne2o/logs</code>"
     },
     "metadata": {},
     "output_type": "display_data"
    },
    {
     "data": {
      "text/plain": "<IPython.core.display.HTML object>",
      "text/html": "Successfully finished last run (ID:eedtne2o). Initializing new run:<br/>"
     },
     "metadata": {},
     "output_type": "display_data"
    },
    {
     "data": {
      "text/plain": "<IPython.core.display.HTML object>",
      "text/html": "wandb version 0.12.20 is available!  To upgrade, please run:\n $ pip install wandb --upgrade"
     },
     "metadata": {},
     "output_type": "display_data"
    },
    {
     "data": {
      "text/plain": "<IPython.core.display.HTML object>",
      "text/html": "Tracking run with wandb version 0.12.16"
     },
     "metadata": {},
     "output_type": "display_data"
    },
    {
     "data": {
      "text/plain": "<IPython.core.display.HTML object>",
      "text/html": "Run data is saved locally in <code>/Users/ericcalasans/Documents/Projetos/mlprojfinal/wandb/run-20220701_055014-wkw5n2d4</code>"
     },
     "metadata": {},
     "output_type": "display_data"
    },
    {
     "data": {
      "text/plain": "<IPython.core.display.HTML object>",
      "text/html": "Syncing run <strong><a href=\"https://wandb.ai/ecalasans/mlreanimacao/runs/wkw5n2d4\" target=\"_blank\">devout-armadillo-193</a></strong> to <a href=\"https://wandb.ai/ecalasans/mlreanimacao\" target=\"_blank\">Weights & Biases</a> (<a href=\"https://wandb.me/run\" target=\"_blank\">docs</a>)<br/>"
     },
     "metadata": {},
     "output_type": "display_data"
    },
    {
     "name": "stderr",
     "output_type": "stream",
     "text": [
      "01-07-2022 05:50:28 Baixando artefato e realizando leitura...\n"
     ]
    }
   ],
   "source": [
    "run = wandb.init(project='mlreanimacao', job_type='train')\n",
    "\n",
    "# Registra um log desta ação\n",
    "logger.info(\"Baixando artefato e realizando leitura...\")\n",
    "artifact = run.use_artifact(input_artifact)\n",
    "artifact_file = artifact.file()\n",
    "df_total = pd.read_csv(artifact_file)"
   ],
   "metadata": {
    "collapsed": false,
    "pycharm": {
     "name": "#%%\n"
    }
   }
  },
  {
   "cell_type": "code",
   "execution_count": 9,
   "outputs": [
    {
     "data": {
      "text/plain": "   idade_materna    fumo    alcool psicoativas    tpp    dpp oligoamnio  \\\n0           35.0  n_fumo  n_alcool     n_psico  n_tpp  n_dpp    n_oligo   \n1           30.0  n_fumo  n_alcool     n_psico  n_tpp  n_dpp    n_oligo   \n2           27.0  n_fumo  n_alcool     n_psico  n_tpp  n_dpp    n_oligo   \n3           21.0  n_fumo  n_alcool     d_psico  n_tpp  n_dpp    n_oligo   \n4           26.0  n_fumo  n_alcool     n_psico  n_tpp  n_dpp    n_oligo   \n\n     sifilis    hiv covid_mae    dheg    dm       sexo reanimacao  \n0  n_sifilis  n_hiv   n_covid  s_dheg  n_dm  Masculino         nr  \n1  n_sifilis  n_hiv   n_covid  n_dheg  n_dm  Masculino         nr  \n2  n_sifilis  n_hiv   n_covid  s_dheg  s_dm   Feminino         sr  \n3  n_sifilis  n_hiv   n_covid  n_dheg  n_dm   Feminino         nr  \n4  n_sifilis  n_hiv   n_covid  n_dheg  s_dm   Feminino         sr  ",
      "text/html": "<div>\n<style scoped>\n    .dataframe tbody tr th:only-of-type {\n        vertical-align: middle;\n    }\n\n    .dataframe tbody tr th {\n        vertical-align: top;\n    }\n\n    .dataframe thead th {\n        text-align: right;\n    }\n</style>\n<table border=\"1\" class=\"dataframe\">\n  <thead>\n    <tr style=\"text-align: right;\">\n      <th></th>\n      <th>idade_materna</th>\n      <th>fumo</th>\n      <th>alcool</th>\n      <th>psicoativas</th>\n      <th>tpp</th>\n      <th>dpp</th>\n      <th>oligoamnio</th>\n      <th>sifilis</th>\n      <th>hiv</th>\n      <th>covid_mae</th>\n      <th>dheg</th>\n      <th>dm</th>\n      <th>sexo</th>\n      <th>reanimacao</th>\n    </tr>\n  </thead>\n  <tbody>\n    <tr>\n      <th>0</th>\n      <td>35.0</td>\n      <td>n_fumo</td>\n      <td>n_alcool</td>\n      <td>n_psico</td>\n      <td>n_tpp</td>\n      <td>n_dpp</td>\n      <td>n_oligo</td>\n      <td>n_sifilis</td>\n      <td>n_hiv</td>\n      <td>n_covid</td>\n      <td>s_dheg</td>\n      <td>n_dm</td>\n      <td>Masculino</td>\n      <td>nr</td>\n    </tr>\n    <tr>\n      <th>1</th>\n      <td>30.0</td>\n      <td>n_fumo</td>\n      <td>n_alcool</td>\n      <td>n_psico</td>\n      <td>n_tpp</td>\n      <td>n_dpp</td>\n      <td>n_oligo</td>\n      <td>n_sifilis</td>\n      <td>n_hiv</td>\n      <td>n_covid</td>\n      <td>n_dheg</td>\n      <td>n_dm</td>\n      <td>Masculino</td>\n      <td>nr</td>\n    </tr>\n    <tr>\n      <th>2</th>\n      <td>27.0</td>\n      <td>n_fumo</td>\n      <td>n_alcool</td>\n      <td>n_psico</td>\n      <td>n_tpp</td>\n      <td>n_dpp</td>\n      <td>n_oligo</td>\n      <td>n_sifilis</td>\n      <td>n_hiv</td>\n      <td>n_covid</td>\n      <td>s_dheg</td>\n      <td>s_dm</td>\n      <td>Feminino</td>\n      <td>sr</td>\n    </tr>\n    <tr>\n      <th>3</th>\n      <td>21.0</td>\n      <td>n_fumo</td>\n      <td>n_alcool</td>\n      <td>d_psico</td>\n      <td>n_tpp</td>\n      <td>n_dpp</td>\n      <td>n_oligo</td>\n      <td>n_sifilis</td>\n      <td>n_hiv</td>\n      <td>n_covid</td>\n      <td>n_dheg</td>\n      <td>n_dm</td>\n      <td>Feminino</td>\n      <td>nr</td>\n    </tr>\n    <tr>\n      <th>4</th>\n      <td>26.0</td>\n      <td>n_fumo</td>\n      <td>n_alcool</td>\n      <td>n_psico</td>\n      <td>n_tpp</td>\n      <td>n_dpp</td>\n      <td>n_oligo</td>\n      <td>n_sifilis</td>\n      <td>n_hiv</td>\n      <td>n_covid</td>\n      <td>n_dheg</td>\n      <td>s_dm</td>\n      <td>Feminino</td>\n      <td>sr</td>\n    </tr>\n  </tbody>\n</table>\n</div>"
     },
     "execution_count": 9,
     "metadata": {},
     "output_type": "execute_result"
    }
   ],
   "source": [
    "df_total.head()"
   ],
   "metadata": {
    "collapsed": false,
    "pycharm": {
     "name": "#%%\n"
    }
   }
  },
  {
   "cell_type": "markdown",
   "source": [
    "## 4. Preparação do *Dataset*"
   ],
   "metadata": {
    "collapsed": false,
    "pycharm": {
     "name": "#%% md\n"
    }
   }
  },
  {
   "cell_type": "markdown",
   "source": [
    "### 4.1. Remoção de Outliers"
   ],
   "metadata": {
    "collapsed": false,
    "pycharm": {
     "name": "#%% md\n"
    }
   }
  },
  {
   "cell_type": "code",
   "execution_count": 10,
   "outputs": [
    {
     "name": "stderr",
     "output_type": "stream",
     "text": [
      "01-07-2022 05:51:15 Remoção de outliers\n"
     ]
    }
   ],
   "source": [
    "logger.info(\"Remoção de outliers\")\n",
    "\n",
    "# Variável temporária\n",
    "x = df_total['idade_materna'].copy()\n",
    "\n",
    "# Redimensiona variável para adequar ao procedimento - técnica sugerida pela mensagem de erro\n",
    "x = x.values.reshape(-1, 1)\n",
    "\n",
    "# Identifica e prevê outliers em um único passo\n",
    "lof = LocalOutlierFactor()\n",
    "outlier = lof.fit_predict(x)\n",
    "mask = outlier != -1"
   ],
   "metadata": {
    "collapsed": false,
    "pycharm": {
     "name": "#%%\n"
    }
   }
  },
  {
   "cell_type": "code",
   "execution_count": 11,
   "outputs": [
    {
     "name": "stderr",
     "output_type": "stream",
     "text": [
      "01-07-2022 05:51:32 x_train shape [original]: (352, 14)\n",
      "01-07-2022 05:51:32 x_train shape [outlier removal]: (345, 14)\n"
     ]
    }
   ],
   "source": [
    "logger.info(\"x_train shape [original]: {}\".format(df_total.shape))\n",
    "logger.info(\"x_train shape [outlier removal]: {}\".format(df_total.loc[mask,:].shape))"
   ],
   "metadata": {
    "collapsed": false,
    "pycharm": {
     "name": "#%%\n"
    }
   }
  },
  {
   "cell_type": "code",
   "execution_count": 12,
   "outputs": [],
   "source": [
    "df_total = df_total.loc[mask,:].copy()\n"
   ],
   "metadata": {
    "collapsed": false,
    "pycharm": {
     "name": "#%%\n"
    }
   }
  },
  {
   "cell_type": "code",
   "execution_count": 13,
   "outputs": [
    {
     "data": {
      "text/plain": "(345, 14)"
     },
     "execution_count": 13,
     "metadata": {},
     "output_type": "execute_result"
    }
   ],
   "source": [
    "df_total.shape"
   ],
   "metadata": {
    "collapsed": false,
    "pycharm": {
     "name": "#%%\n"
    }
   }
  },
  {
   "cell_type": "markdown",
   "source": [
    "### 4.2.  Codificação da Variável *Target*"
   ],
   "metadata": {
    "collapsed": false,
    "pycharm": {
     "name": "#%% md\n"
    }
   }
  },
  {
   "cell_type": "code",
   "execution_count": 14,
   "outputs": [
    {
     "name": "stderr",
     "output_type": "stream",
     "text": [
      "01-07-2022 05:55:00 Codificando variável target\n",
      "01-07-2022 05:55:00 Classes [0, 1]: ['nr' 'sr']\n"
     ]
    }
   ],
   "source": [
    "logger.info(\"Codificando variável target\")\n",
    "# Objeto codificador\n",
    "le = LabelEncoder()\n",
    "\n",
    "# Treinamento e transformação do conjunto de treinamento\n",
    "df_total['reanimacao'] = le.fit_transform(df_total['reanimacao'])\n",
    "\n",
    "logger.info(\"Classes [0, 1]: {}\".format(le.inverse_transform([0, 1])))"
   ],
   "metadata": {
    "collapsed": false,
    "pycharm": {
     "name": "#%%\n"
    }
   }
  },
  {
   "cell_type": "code",
   "execution_count": 15,
   "outputs": [
    {
     "data": {
      "text/plain": "0      0\n1      0\n2      1\n3      0\n4      1\n      ..\n347    0\n348    0\n349    0\n350    1\n351    0\nName: reanimacao, Length: 345, dtype: int64"
     },
     "execution_count": 15,
     "metadata": {},
     "output_type": "execute_result"
    }
   ],
   "source": [
    "df_total['reanimacao']"
   ],
   "metadata": {
    "collapsed": false,
    "pycharm": {
     "name": "#%%\n"
    }
   }
  },
  {
   "cell_type": "markdown",
   "source": [
    "Retirada da variável *target* das *features*"
   ],
   "metadata": {
    "collapsed": false,
    "pycharm": {
     "name": "#%% md\n"
    }
   }
  },
  {
   "cell_type": "code",
   "execution_count": 24,
   "outputs": [],
   "source": [
    "df_target = df_total['reanimacao']\n",
    "df_features = df_total.drop(columns=['reanimacao'], axis=1)"
   ],
   "metadata": {
    "collapsed": false,
    "pycharm": {
     "name": "#%%\n"
    }
   }
  },
  {
   "cell_type": "code",
   "execution_count": 25,
   "outputs": [
    {
     "data": {
      "text/plain": "(345, 13)"
     },
     "execution_count": 25,
     "metadata": {},
     "output_type": "execute_result"
    }
   ],
   "source": [
    "df_features.shape"
   ],
   "metadata": {
    "collapsed": false,
    "pycharm": {
     "name": "#%%\n"
    }
   }
  },
  {
   "cell_type": "code",
   "execution_count": 34,
   "outputs": [
    {
     "data": {
      "text/plain": "(345,)"
     },
     "execution_count": 34,
     "metadata": {},
     "output_type": "execute_result"
    }
   ],
   "source": [
    "df_target.shape"
   ],
   "metadata": {
    "collapsed": false,
    "pycharm": {
     "name": "#%%\n"
    }
   }
  },
  {
   "cell_type": "markdown",
   "source": [
    "## 5. Construção do *Pipeline*"
   ],
   "metadata": {
    "collapsed": false,
    "pycharm": {
     "name": "#%% md\n"
    }
   }
  },
  {
   "cell_type": "markdown",
   "source": [
    "### 5.1. Criação da Classe **FeatureSelection**"
   ],
   "metadata": {
    "collapsed": false,
    "pycharm": {
     "name": "#%% md\n"
    }
   }
  },
  {
   "cell_type": "code",
   "execution_count": 16,
   "outputs": [],
   "source": [
    "class FeatureSelector(BaseEstimator, TransformerMixin):\n",
    "    # Construtor\n",
    "    def __init__(self, feature_names):\n",
    "        self.feature_names = feature_names\n",
    "\n",
    "    # Override de fit\n",
    "    def fit(self, X, y=None):\n",
    "        return self\n",
    "\n",
    "    # Retorna as colunas passadas no construtor\n",
    "    def transform(self, X, y=None):\n",
    "        return X[self.feature_names]"
   ],
   "metadata": {
    "collapsed": false,
    "pycharm": {
     "name": "#%%\n"
    }
   }
  },
  {
   "cell_type": "markdown",
   "source": [
    "### 5.2. Criação da Classe **CategoricalTransformer**"
   ],
   "metadata": {
    "collapsed": false,
    "pycharm": {
     "name": "#%% md\n"
    }
   }
  },
  {
   "cell_type": "code",
   "execution_count": 17,
   "outputs": [],
   "source": [
    "class CategoricalTransformer(BaseEstimator, TransformerMixin):\n",
    "    # Construtor\n",
    "    def __init__(self, new_features=True, colnames=None):\n",
    "        self.new_features = new_features\n",
    "        self.colnames = colnames\n",
    "\n",
    "    # Override de fit\n",
    "    def fit(self, X, y=None):\n",
    "        return self\n",
    "\n",
    "    # Override de get_feature_names_out\n",
    "    def get_feature_names_out(self):\n",
    "        return self.colnames.tolist()\n",
    "\n",
    "    # Transformer method we wrote for this transformer\n",
    "    def transform(self, X, y=None):\n",
    "        df = pd.DataFrame(X, columns=self.colnames)\n",
    "\n",
    "        # Remove eventuais espaços em branco dos valores - a princípio isso não existe na base de dados\n",
    "        df = df.apply(lambda row: row.str.strip())\n",
    "\n",
    "        # Opção de fazer preprocessamento se new_features for True(padrão da classe)\n",
    "        if self.new_features:\n",
    "            df['fumo'].fillna(2, inplace=True)\n",
    "            df['alcool'].fillna(2, inplace=True)\n",
    "            df['psicoativas'].fillna(2, inplace=True)\n",
    "            df['tpp'].fillna(2, inplace=True)\n",
    "            df['dheg'].fillna(2, inplace=True)\n",
    "            df['dm'].fillna(2, inplace=True)\n",
    "            df['sexo'].fillna(3, inplace=True)\n",
    "            df['oligoamnio'].fillna(2, inplace=True)\n",
    "            df['dpp'].fillna(2, inplace=True)\n",
    "            df['sifilis'].fillna(2, inplace=True)\n",
    "            df['hiv'].fillna(2, inplace=True)\n",
    "            df['covid_mae'].fillna(2, inplace=True)\n",
    "\n",
    "            # Elimina valores com sexo indefinido\n",
    "            df.drop(df[df['sexo'] == 3].index, inplace=True)\n",
    "\n",
    "            # Categoriza as features pois o artefato retorna sempre valores numéricos\n",
    "            df['fumo'].replace([0, 1, 2, 3], ['n_fumo', 's_fumo', 'n_fumo', 'd_fumo'], inplace=True)\n",
    "            df['alcool'].replace([0, 1, 2, 3], ['n_alcool', 's_alcool', 'n_alcool', 'd_alcool'], inplace=True)\n",
    "            df['psicoativas'].replace([0, 1, 2, 3], ['n_psico', 's_psico', 'n_psico', 'd_psico'], inplace=True)\n",
    "            df['tpp'].replace([0, 1, 2, 3], ['n_tpp', 's_tpp', 'n_tpp', 'd_tpp'], inplace=True)\n",
    "            df['dheg'].replace([0, 1, 2, 3], ['n_dheg', 's_dheg', 'n_dheg', 'd_dheg'], inplace=True)\n",
    "\n",
    "            # Melhor adequação da feature sexo\n",
    "            df['sexo'].replace([1,2], ['Feminino', 'Masculino'], inplace=True)\n",
    "            df['dpp'].replace([0, 1, 2, 3], ['n_dpp', 's_dpp', 'n_dpp', 'd_dpp'], inplace=True)\n",
    "            df['oligoamnio'].replace([0, 1, 2, 3], ['n_oligo', 's_oligo', 'n_oligo', 'd_oligo'], inplace=True)\n",
    "            df['sifilis'].replace([0, 1, 2, 3], ['n_sifilis', 's_sifilis', 'n_sifilis', 'd_sifilis'], inplace=True)\n",
    "            df['hiv'].replace([0, 1, 2, 3], ['n_hiv', 's_hiv', 'n_hiv', 'd_hiv'], inplace=True)\n",
    "            df['covid_mae'].replace([0, 1, 2, 3], ['n_covid', 's_covid', 'n_covid', 'd_covid'], inplace=True)\n",
    "\n",
    "            # Consolidações\n",
    "            df['dm'].replace([0,1,2,3,4,5,6], ['n_dm', 'n_dm','s_dm','s_dm', 's_dm','s_dm','d_dm'], inplace=True)\n",
    "\n",
    "        self.colnames = df.columns\n",
    "\n",
    "        return df"
   ],
   "metadata": {
    "collapsed": false,
    "pycharm": {
     "name": "#%%\n"
    }
   }
  },
  {
   "cell_type": "markdown",
   "source": [
    "### 5.3. Criação da Classe **NumericalTransformer**"
   ],
   "metadata": {
    "collapsed": false,
    "pycharm": {
     "name": "#%% md\n"
    }
   }
  },
  {
   "cell_type": "code",
   "execution_count": 18,
   "outputs": [],
   "source": [
    "class NumericalTransformer(BaseEstimator, TransformerMixin):\n",
    "    # Tipos de scalers\n",
    "    # model 0: minmax\n",
    "    # model 1: standard\n",
    "    # model 2: without scaler\n",
    "    def __init__(self, model=0, colnames=None):\n",
    "        self.model = model\n",
    "        self.colnames = colnames\n",
    "        self.scaler = None\n",
    "\n",
    "    def fit(self, X, y=None):\n",
    "        df = pd.DataFrame(X, columns=self.colnames)\n",
    "        # minmax\n",
    "        if self.model == 0:\n",
    "            self.scaler = MinMaxScaler()\n",
    "            self.scaler.fit(df)\n",
    "        # standard scaler\n",
    "        elif self.model == 1:\n",
    "            self.scaler = StandardScaler()\n",
    "            self.scaler.fit(df)\n",
    "        return self\n",
    "\n",
    "    def get_feature_names_out(self):\n",
    "        return self.colnames\n",
    "\n",
    "    def transform(self, X, y=None):\n",
    "        df = pd.DataFrame(X, columns=self.colnames)\n",
    "\n",
    "        # update columns name\n",
    "        self.colnames = df.columns.tolist()\n",
    "\n",
    "        # minmax\n",
    "        if self.model == 0:\n",
    "            # transform data\n",
    "            df = self.scaler.transform(df)\n",
    "        elif self.model == 1:\n",
    "            # transform data\n",
    "            df = self.scaler.transform(df)\n",
    "        else:\n",
    "            df = df.values\n",
    "\n",
    "        return df"
   ],
   "metadata": {
    "collapsed": false,
    "pycharm": {
     "name": "#%%\n"
    }
   }
  },
  {
   "cell_type": "code",
   "execution_count": 19,
   "outputs": [
    {
     "data": {
      "text/plain": "   idade_materna\n0           35.0\n1           30.0\n2           27.0\n3           21.0\n4           26.0",
      "text/html": "<div>\n<style scoped>\n    .dataframe tbody tr th:only-of-type {\n        vertical-align: middle;\n    }\n\n    .dataframe tbody tr th {\n        vertical-align: top;\n    }\n\n    .dataframe thead th {\n        text-align: right;\n    }\n</style>\n<table border=\"1\" class=\"dataframe\">\n  <thead>\n    <tr style=\"text-align: right;\">\n      <th></th>\n      <th>idade_materna</th>\n    </tr>\n  </thead>\n  <tbody>\n    <tr>\n      <th>0</th>\n      <td>35.0</td>\n    </tr>\n    <tr>\n      <th>1</th>\n      <td>30.0</td>\n    </tr>\n    <tr>\n      <th>2</th>\n      <td>27.0</td>\n    </tr>\n    <tr>\n      <th>3</th>\n      <td>21.0</td>\n    </tr>\n    <tr>\n      <th>4</th>\n      <td>26.0</td>\n    </tr>\n  </tbody>\n</table>\n</div>"
     },
     "execution_count": 19,
     "metadata": {},
     "output_type": "execute_result"
    }
   ],
   "source": [
    "fs = FeatureSelector(df_total.select_dtypes(\"float64\").columns.to_list())\n",
    "df = fs.fit_transform(df_total)\n",
    "df.head()"
   ],
   "metadata": {
    "collapsed": false,
    "pycharm": {
     "name": "#%%\n"
    }
   }
  },
  {
   "cell_type": "code",
   "execution_count": 20,
   "outputs": [
    {
     "data": {
      "text/plain": "array([[ 9.98818406e-01],\n       [ 2.83896518e-01],\n       [-1.45056615e-01],\n       [-1.00296288e+00],\n       [-2.88040993e-01],\n       [ 1.57075592e+00],\n       [-8.59978503e-01],\n       [ 1.57075592e+00],\n       [-1.00296288e+00],\n       [-1.14594726e+00],\n       [ 4.26880895e-01],\n       [ 1.40912140e-01],\n       [-8.59978503e-01],\n       [ 1.57075592e+00],\n       [-1.14594726e+00],\n       [-1.00296288e+00],\n       [ 4.26880895e-01],\n       [ 5.69865273e-01],\n       [ 7.12849651e-01],\n       [ 8.55834028e-01],\n       [ 1.28478716e+00],\n       [-4.31025370e-01],\n       [ 2.83896518e-01],\n       [-5.74009748e-01],\n       [ 1.28478716e+00],\n       [ 1.28478716e+00],\n       [ 1.42777154e+00],\n       [ 1.85672467e+00],\n       [-1.43191601e+00],\n       [-2.07223736e-03],\n       [ 9.98818406e-01],\n       [ 5.69865273e-01],\n       [-1.14594726e+00],\n       [ 4.26880895e-01],\n       [ 8.55834028e-01],\n       [ 9.98818406e-01],\n       [-8.59978503e-01],\n       [-1.57490039e+00],\n       [-1.00296288e+00],\n       [-4.31025370e-01],\n       [-2.07223736e-03],\n       [ 7.12849651e-01],\n       [-1.71788477e+00],\n       [ 5.69865273e-01],\n       [ 9.98818406e-01],\n       [-2.00385352e+00],\n       [-1.43191601e+00],\n       [ 4.26880895e-01],\n       [ 8.55834028e-01],\n       [ 1.42777154e+00],\n       [-1.28893164e+00],\n       [ 1.99970905e+00],\n       [ 4.26880895e-01],\n       [ 9.98818406e-01],\n       [ 1.85672467e+00],\n       [-2.07223736e-03],\n       [ 9.98818406e-01],\n       [-7.16994125e-01],\n       [ 5.69865273e-01],\n       [ 5.69865273e-01],\n       [-8.59978503e-01],\n       [ 7.12849651e-01],\n       [ 2.83896518e-01],\n       [-2.88040993e-01],\n       [ 1.28478716e+00],\n       [-2.88040993e-01],\n       [ 4.26880895e-01],\n       [ 1.42777154e+00],\n       [ 1.28478716e+00],\n       [ 1.28478716e+00],\n       [-8.59978503e-01],\n       [-5.74009748e-01],\n       [ 1.57075592e+00],\n       [-2.07223736e-03],\n       [ 1.14180278e+00],\n       [ 1.40912140e-01],\n       [-1.43191601e+00],\n       [ 1.28478716e+00],\n       [ 4.26880895e-01],\n       [-1.00296288e+00],\n       [-4.31025370e-01],\n       [-2.88040993e-01],\n       [-4.31025370e-01],\n       [-7.16994125e-01],\n       [ 7.12849651e-01],\n       [ 1.42777154e+00],\n       [ 9.98818406e-01],\n       [-4.31025370e-01],\n       [ 4.26880895e-01],\n       [-1.28893164e+00],\n       [-5.74009748e-01],\n       [-1.28893164e+00],\n       [-2.07223736e-03],\n       [ 1.85672467e+00],\n       [-1.86086915e+00],\n       [-8.59978503e-01],\n       [-2.88040993e-01],\n       [-1.43191601e+00],\n       [ 2.83896518e-01],\n       [ 1.71374029e+00],\n       [ 1.40912140e-01],\n       [ 1.42777154e+00],\n       [ 8.55834028e-01],\n       [-1.28893164e+00],\n       [ 2.14269343e+00],\n       [-1.86086915e+00],\n       [-1.43191601e+00],\n       [-1.86086915e+00],\n       [ 1.71374029e+00],\n       [-1.14594726e+00],\n       [-1.43191601e+00],\n       [ 7.12849651e-01],\n       [ 1.42777154e+00],\n       [-4.31025370e-01],\n       [-1.00296288e+00],\n       [ 1.99970905e+00],\n       [-2.07223736e-03],\n       [-2.88040993e-01],\n       [-1.00296288e+00],\n       [-1.00296288e+00],\n       [ 1.85672467e+00],\n       [-4.31025370e-01],\n       [-1.14594726e+00],\n       [-1.28893164e+00],\n       [-1.14594726e+00],\n       [ 9.98818406e-01],\n       [-8.59978503e-01],\n       [-5.74009748e-01],\n       [-1.57490039e+00],\n       [ 9.98818406e-01],\n       [-1.86086915e+00],\n       [-4.31025370e-01],\n       [-2.88040993e-01],\n       [ 4.26880895e-01],\n       [ 9.98818406e-01],\n       [-1.45056615e-01],\n       [ 2.83896518e-01],\n       [-8.59978503e-01],\n       [ 1.40912140e-01],\n       [ 1.42777154e+00],\n       [-4.31025370e-01],\n       [-1.28893164e+00],\n       [ 7.12849651e-01],\n       [-1.43191601e+00],\n       [-4.31025370e-01],\n       [-1.45056615e-01],\n       [-1.00296288e+00],\n       [ 8.55834028e-01],\n       [-7.16994125e-01],\n       [-1.43191601e+00],\n       [ 1.85672467e+00],\n       [-8.59978503e-01],\n       [ 1.85672467e+00],\n       [ 1.40912140e-01],\n       [ 2.14269343e+00],\n       [-1.71788477e+00],\n       [ 8.55834028e-01],\n       [-2.88040993e-01],\n       [-1.00296288e+00],\n       [ 2.83896518e-01],\n       [ 7.12849651e-01],\n       [-7.16994125e-01],\n       [-1.14594726e+00],\n       [ 2.83896518e-01],\n       [-1.45056615e-01],\n       [-2.88040993e-01],\n       [-1.45056615e-01],\n       [-1.43191601e+00],\n       [ 1.14180278e+00],\n       [-5.74009748e-01],\n       [-2.07223736e-03],\n       [ 8.55834028e-01],\n       [ 1.85672467e+00],\n       [ 1.28478716e+00],\n       [ 7.12849651e-01],\n       [-7.16994125e-01],\n       [ 9.98818406e-01],\n       [ 1.40912140e-01],\n       [ 5.69865273e-01],\n       [ 1.14180278e+00],\n       [ 1.40912140e-01],\n       [-2.88040993e-01],\n       [ 7.12849651e-01],\n       [ 1.14180278e+00],\n       [ 4.26880895e-01],\n       [-1.00296288e+00],\n       [ 8.55834028e-01],\n       [-2.88040993e-01],\n       [-7.16994125e-01],\n       [-2.07223736e-03],\n       [-7.16994125e-01],\n       [-8.59978503e-01],\n       [-1.43191601e+00],\n       [-1.43191601e+00],\n       [-5.74009748e-01],\n       [-1.45056615e-01],\n       [ 2.83896518e-01],\n       [-1.14594726e+00],\n       [-1.28893164e+00],\n       [-8.59978503e-01],\n       [ 1.57075592e+00],\n       [ 1.14180278e+00],\n       [ 5.69865273e-01],\n       [-5.74009748e-01],\n       [ 7.12849651e-01],\n       [-7.16994125e-01],\n       [ 1.14180278e+00],\n       [ 9.98818406e-01],\n       [-2.07223736e-03],\n       [ 8.55834028e-01],\n       [-5.74009748e-01],\n       [-7.16994125e-01],\n       [-1.45056615e-01],\n       [ 1.40912140e-01],\n       [-4.31025370e-01],\n       [-1.28893164e+00],\n       [-1.45056615e-01],\n       [ 8.55834028e-01],\n       [-4.31025370e-01],\n       [ 4.26880895e-01],\n       [ 1.71374029e+00],\n       [-5.74009748e-01],\n       [-1.00296288e+00],\n       [ 1.57075592e+00],\n       [-2.88040993e-01],\n       [-1.00296288e+00],\n       [-1.00296288e+00],\n       [-2.07223736e-03],\n       [-1.00296288e+00],\n       [ 1.40912140e-01],\n       [-1.45056615e-01],\n       [-2.07223736e-03],\n       [ 2.83896518e-01],\n       [-1.57490039e+00],\n       [-1.14594726e+00],\n       [-2.07223736e-03],\n       [ 5.69865273e-01],\n       [ 5.69865273e-01],\n       [ 4.26880895e-01],\n       [-1.43191601e+00],\n       [ 1.40912140e-01],\n       [-1.45056615e-01],\n       [ 9.98818406e-01],\n       [ 1.71374029e+00],\n       [-7.16994125e-01],\n       [ 1.42777154e+00],\n       [-1.00296288e+00],\n       [-7.16994125e-01],\n       [ 1.40912140e-01],\n       [ 7.12849651e-01],\n       [ 9.98818406e-01],\n       [-4.31025370e-01],\n       [-1.71788477e+00],\n       [-1.28893164e+00],\n       [-1.45056615e-01],\n       [-2.07223736e-03],\n       [-7.16994125e-01],\n       [ 5.69865273e-01],\n       [-7.16994125e-01],\n       [-2.07223736e-03],\n       [-1.45056615e-01],\n       [-2.88040993e-01],\n       [ 1.40912140e-01],\n       [-2.07223736e-03],\n       [-1.57490039e+00],\n       [-1.28893164e+00],\n       [-1.45056615e-01],\n       [ 2.83896518e-01],\n       [-1.28893164e+00],\n       [ 1.57075592e+00],\n       [-1.00296288e+00],\n       [ 8.55834028e-01],\n       [-2.88040993e-01],\n       [ 7.12849651e-01],\n       [ 1.99970905e+00],\n       [-4.31025370e-01],\n       [-1.71788477e+00],\n       [ 5.69865273e-01],\n       [ 5.69865273e-01],\n       [ 5.69865273e-01],\n       [ 7.12849651e-01],\n       [-2.00385352e+00],\n       [ 9.98818406e-01],\n       [-2.07223736e-03],\n       [ 4.26880895e-01],\n       [ 1.40912140e-01],\n       [ 8.55834028e-01],\n       [-8.59978503e-01],\n       [ 4.26880895e-01],\n       [-2.07223736e-03],\n       [-1.14594726e+00],\n       [-2.07223736e-03],\n       [ 1.57075592e+00],\n       [-2.88040993e-01],\n       [ 9.98818406e-01],\n       [ 9.98818406e-01],\n       [-2.88040993e-01],\n       [ 9.98818406e-01],\n       [ 9.98818406e-01],\n       [-1.00296288e+00],\n       [-1.14594726e+00],\n       [ 5.69865273e-01],\n       [-5.74009748e-01],\n       [ 1.57075592e+00],\n       [-5.74009748e-01],\n       [-1.45056615e-01],\n       [ 1.71374029e+00],\n       [-1.71788477e+00],\n       [ 1.99970905e+00],\n       [-7.16994125e-01],\n       [ 1.14180278e+00],\n       [-8.59978503e-01],\n       [-2.88040993e-01],\n       [-8.59978503e-01],\n       [ 9.98818406e-01],\n       [-1.45056615e-01],\n       [-4.31025370e-01],\n       [ 1.14180278e+00],\n       [-1.71788477e+00],\n       [ 1.42777154e+00],\n       [-8.59978503e-01],\n       [ 4.26880895e-01],\n       [-1.71788477e+00],\n       [-1.43191601e+00],\n       [ 2.83896518e-01],\n       [ 8.55834028e-01],\n       [-5.74009748e-01],\n       [-4.31025370e-01],\n       [-5.74009748e-01],\n       [-2.07223736e-03],\n       [-8.59978503e-01],\n       [-1.14594726e+00],\n       [-7.16994125e-01],\n       [ 1.42777154e+00],\n       [-4.31025370e-01],\n       [-1.00296288e+00],\n       [-2.07223736e-03],\n       [ 1.14180278e+00],\n       [ 1.28478716e+00],\n       [-1.86086915e+00],\n       [-1.00296288e+00],\n       [-8.59978503e-01],\n       [ 8.55834028e-01],\n       [ 2.83896518e-01],\n       [ 5.69865273e-01]])"
     },
     "execution_count": 20,
     "metadata": {},
     "output_type": "execute_result"
    }
   ],
   "source": [
    "nt = NumericalTransformer(model=1, colnames=df.columns.to_list())\n",
    "df_nt = nt.fit_transform(df)\n",
    "df_nt"
   ],
   "metadata": {
    "collapsed": false,
    "pycharm": {
     "name": "#%%\n"
    }
   }
  },
  {
   "cell_type": "markdown",
   "source": [
    "### 6.4. Encadeamento"
   ],
   "metadata": {
    "collapsed": false,
    "pycharm": {
     "name": "#%% md\n"
    }
   }
  },
  {
   "cell_type": "code",
   "execution_count": 26,
   "outputs": [],
   "source": [
    "# Tipos de scalers = 0 (min-max), 1 (z-score), 2 (without normalization)\n",
    "numerical_model = 0\n",
    "\n",
    "# Features categóricas\n",
    "categorical_features = df_features.select_dtypes(\"object\").columns.to_list()\n",
    "\n",
    "# Features numéricas\n",
    "numerical_features = df_features.select_dtypes(\"float64\").columns.to_list()\n",
    "\n",
    "# A parte de preenchimento de dados faltantes já é realizada pela classe CategoricalTransformer\n",
    "categorical_pipeline = Pipeline(steps=[('cat_selector', FeatureSelector(categorical_features)),\n",
    "                                       ('cat_transformer', CategoricalTransformer(colnames=categorical_features)),\n",
    "                                       ('cat_encoder', OneHotEncoder(sparse=False, drop=\"first\"))\n",
    "                                       ]\n",
    "                                )\n",
    "\n",
    "# A parte de preenchimento de dados faltantes já é realizada pela classe NumericalTransformer\n",
    "numerical_pipeline = Pipeline(steps=[('num_selector', FeatureSelector(numerical_features)),\n",
    "                                     ('num_transformer', NumericalTransformer(numerical_model,\n",
    "                                                                              colnames=numerical_features))])\n",
    "\n",
    "# Reune os Pipelines num só\n",
    "full_pipeline_preprocessing = FeatureUnion(transformer_list=[('cat_pipeline', categorical_pipeline),\n",
    "                                                             ('num_pipeline', numerical_pipeline)])"
   ],
   "metadata": {
    "collapsed": false,
    "pycharm": {
     "name": "#%%\n"
    }
   }
  },
  {
   "cell_type": "code",
   "execution_count": 27,
   "outputs": [],
   "source": [
    "features_set = full_pipeline_preprocessing.fit_transform(df_features)"
   ],
   "metadata": {
    "collapsed": false,
    "pycharm": {
     "name": "#%%\n"
    }
   }
  },
  {
   "cell_type": "code",
   "execution_count": 28,
   "outputs": [
    {
     "data": {
      "text/plain": "   fumo_n_fumo  fumo_s_fumo  alcool_n_alcool  alcool_s_alcool  \\\n0          1.0          0.0              1.0              0.0   \n1          1.0          0.0              1.0              0.0   \n2          1.0          0.0              1.0              0.0   \n3          1.0          0.0              1.0              0.0   \n4          1.0          0.0              1.0              0.0   \n\n   psicoativas_n_psico  psicoativas_s_psico  tpp_n_tpp  tpp_s_tpp  dpp_n_dpp  \\\n0                  1.0                  0.0        1.0        0.0        1.0   \n1                  1.0                  0.0        1.0        0.0        1.0   \n2                  1.0                  0.0        1.0        0.0        1.0   \n3                  0.0                  0.0        1.0        0.0        1.0   \n4                  1.0                  0.0        1.0        0.0        1.0   \n\n   dpp_s_dpp  ...  hiv_n_hiv  hiv_s_hiv  covid_mae_n_covid  covid_mae_s_covid  \\\n0        0.0  ...        1.0        0.0                1.0                0.0   \n1        0.0  ...        1.0        0.0                1.0                0.0   \n2        0.0  ...        1.0        0.0                1.0                0.0   \n3        0.0  ...        1.0        0.0                1.0                0.0   \n4        0.0  ...        1.0        0.0                1.0                0.0   \n\n   dheg_n_dheg  dheg_s_dheg  dm_n_dm  dm_s_dm  sexo_Masculino  idade_materna  \n0          0.0          1.0      1.0      0.0             1.0       0.724138  \n1          1.0          0.0      1.0      0.0             1.0       0.551724  \n2          0.0          1.0      0.0      1.0             0.0       0.448276  \n3          1.0          0.0      1.0      0.0             0.0       0.241379  \n4          1.0          0.0      0.0      1.0             0.0       0.413793  \n\n[5 rows x 24 columns]",
      "text/html": "<div>\n<style scoped>\n    .dataframe tbody tr th:only-of-type {\n        vertical-align: middle;\n    }\n\n    .dataframe tbody tr th {\n        vertical-align: top;\n    }\n\n    .dataframe thead th {\n        text-align: right;\n    }\n</style>\n<table border=\"1\" class=\"dataframe\">\n  <thead>\n    <tr style=\"text-align: right;\">\n      <th></th>\n      <th>fumo_n_fumo</th>\n      <th>fumo_s_fumo</th>\n      <th>alcool_n_alcool</th>\n      <th>alcool_s_alcool</th>\n      <th>psicoativas_n_psico</th>\n      <th>psicoativas_s_psico</th>\n      <th>tpp_n_tpp</th>\n      <th>tpp_s_tpp</th>\n      <th>dpp_n_dpp</th>\n      <th>dpp_s_dpp</th>\n      <th>...</th>\n      <th>hiv_n_hiv</th>\n      <th>hiv_s_hiv</th>\n      <th>covid_mae_n_covid</th>\n      <th>covid_mae_s_covid</th>\n      <th>dheg_n_dheg</th>\n      <th>dheg_s_dheg</th>\n      <th>dm_n_dm</th>\n      <th>dm_s_dm</th>\n      <th>sexo_Masculino</th>\n      <th>idade_materna</th>\n    </tr>\n  </thead>\n  <tbody>\n    <tr>\n      <th>0</th>\n      <td>1.0</td>\n      <td>0.0</td>\n      <td>1.0</td>\n      <td>0.0</td>\n      <td>1.0</td>\n      <td>0.0</td>\n      <td>1.0</td>\n      <td>0.0</td>\n      <td>1.0</td>\n      <td>0.0</td>\n      <td>...</td>\n      <td>1.0</td>\n      <td>0.0</td>\n      <td>1.0</td>\n      <td>0.0</td>\n      <td>0.0</td>\n      <td>1.0</td>\n      <td>1.0</td>\n      <td>0.0</td>\n      <td>1.0</td>\n      <td>0.724138</td>\n    </tr>\n    <tr>\n      <th>1</th>\n      <td>1.0</td>\n      <td>0.0</td>\n      <td>1.0</td>\n      <td>0.0</td>\n      <td>1.0</td>\n      <td>0.0</td>\n      <td>1.0</td>\n      <td>0.0</td>\n      <td>1.0</td>\n      <td>0.0</td>\n      <td>...</td>\n      <td>1.0</td>\n      <td>0.0</td>\n      <td>1.0</td>\n      <td>0.0</td>\n      <td>1.0</td>\n      <td>0.0</td>\n      <td>1.0</td>\n      <td>0.0</td>\n      <td>1.0</td>\n      <td>0.551724</td>\n    </tr>\n    <tr>\n      <th>2</th>\n      <td>1.0</td>\n      <td>0.0</td>\n      <td>1.0</td>\n      <td>0.0</td>\n      <td>1.0</td>\n      <td>0.0</td>\n      <td>1.0</td>\n      <td>0.0</td>\n      <td>1.0</td>\n      <td>0.0</td>\n      <td>...</td>\n      <td>1.0</td>\n      <td>0.0</td>\n      <td>1.0</td>\n      <td>0.0</td>\n      <td>0.0</td>\n      <td>1.0</td>\n      <td>0.0</td>\n      <td>1.0</td>\n      <td>0.0</td>\n      <td>0.448276</td>\n    </tr>\n    <tr>\n      <th>3</th>\n      <td>1.0</td>\n      <td>0.0</td>\n      <td>1.0</td>\n      <td>0.0</td>\n      <td>0.0</td>\n      <td>0.0</td>\n      <td>1.0</td>\n      <td>0.0</td>\n      <td>1.0</td>\n      <td>0.0</td>\n      <td>...</td>\n      <td>1.0</td>\n      <td>0.0</td>\n      <td>1.0</td>\n      <td>0.0</td>\n      <td>1.0</td>\n      <td>0.0</td>\n      <td>1.0</td>\n      <td>0.0</td>\n      <td>0.0</td>\n      <td>0.241379</td>\n    </tr>\n    <tr>\n      <th>4</th>\n      <td>1.0</td>\n      <td>0.0</td>\n      <td>1.0</td>\n      <td>0.0</td>\n      <td>1.0</td>\n      <td>0.0</td>\n      <td>1.0</td>\n      <td>0.0</td>\n      <td>1.0</td>\n      <td>0.0</td>\n      <td>...</td>\n      <td>1.0</td>\n      <td>0.0</td>\n      <td>1.0</td>\n      <td>0.0</td>\n      <td>1.0</td>\n      <td>0.0</td>\n      <td>0.0</td>\n      <td>1.0</td>\n      <td>0.0</td>\n      <td>0.413793</td>\n    </tr>\n  </tbody>\n</table>\n<p>5 rows × 24 columns</p>\n</div>"
     },
     "execution_count": 28,
     "metadata": {},
     "output_type": "execute_result"
    }
   ],
   "source": [
    "num_names = full_pipeline_preprocessing.get_params()['num_pipeline'][1].get_feature_names_out()\n",
    "cat_names = list(full_pipeline_preprocessing.get_params()['cat_pipeline'][2].get_feature_names_out())\n",
    "df_train_set = pd.DataFrame(features_set, columns=cat_names+num_names)\n",
    "df_train_set.head()"
   ],
   "metadata": {
    "collapsed": false,
    "pycharm": {
     "name": "#%%\n"
    }
   }
  },
  {
   "cell_type": "code",
   "execution_count": 35,
   "outputs": [
    {
     "data": {
      "text/plain": "(345, 24)"
     },
     "execution_count": 35,
     "metadata": {},
     "output_type": "execute_result"
    }
   ],
   "source": [
    "df_train_set.shape"
   ],
   "metadata": {
    "collapsed": false,
    "pycharm": {
     "name": "#%%\n"
    }
   }
  },
  {
   "cell_type": "markdown",
   "source": [
    "## 7. *Upload* de Artefato Final"
   ],
   "metadata": {
    "collapsed": false,
    "pycharm": {
     "name": "#%% md\n"
    }
   }
  },
  {
   "cell_type": "markdown",
   "source": [
    "Concatenação de *datasets*"
   ],
   "metadata": {
    "collapsed": false,
    "pycharm": {
     "name": "#%% md\n"
    }
   }
  },
  {
   "cell_type": "code",
   "execution_count": 37,
   "outputs": [],
   "source": [
    "df_target_set = pd.DataFrame(df_target, columns=['reanimacao'])"
   ],
   "metadata": {
    "collapsed": false,
    "pycharm": {
     "name": "#%%\n"
    }
   }
  },
  {
   "cell_type": "code",
   "execution_count": 47,
   "outputs": [
    {
     "data": {
      "text/plain": "     reanimacao\n0             0\n1             0\n2             1\n3             0\n4             1\n..          ...\n347           0\n348           0\n349           0\n350           1\n351           0\n\n[345 rows x 1 columns]",
      "text/html": "<div>\n<style scoped>\n    .dataframe tbody tr th:only-of-type {\n        vertical-align: middle;\n    }\n\n    .dataframe tbody tr th {\n        vertical-align: top;\n    }\n\n    .dataframe thead th {\n        text-align: right;\n    }\n</style>\n<table border=\"1\" class=\"dataframe\">\n  <thead>\n    <tr style=\"text-align: right;\">\n      <th></th>\n      <th>reanimacao</th>\n    </tr>\n  </thead>\n  <tbody>\n    <tr>\n      <th>0</th>\n      <td>0</td>\n    </tr>\n    <tr>\n      <th>1</th>\n      <td>0</td>\n    </tr>\n    <tr>\n      <th>2</th>\n      <td>1</td>\n    </tr>\n    <tr>\n      <th>3</th>\n      <td>0</td>\n    </tr>\n    <tr>\n      <th>4</th>\n      <td>1</td>\n    </tr>\n    <tr>\n      <th>...</th>\n      <td>...</td>\n    </tr>\n    <tr>\n      <th>347</th>\n      <td>0</td>\n    </tr>\n    <tr>\n      <th>348</th>\n      <td>0</td>\n    </tr>\n    <tr>\n      <th>349</th>\n      <td>0</td>\n    </tr>\n    <tr>\n      <th>350</th>\n      <td>1</td>\n    </tr>\n    <tr>\n      <th>351</th>\n      <td>0</td>\n    </tr>\n  </tbody>\n</table>\n<p>345 rows × 1 columns</p>\n</div>"
     },
     "execution_count": 47,
     "metadata": {},
     "output_type": "execute_result"
    }
   ],
   "source": [
    "df_target_set"
   ],
   "metadata": {
    "collapsed": false,
    "pycharm": {
     "name": "#%%\n"
    }
   }
  },
  {
   "cell_type": "code",
   "execution_count": 48,
   "outputs": [
    {
     "data": {
      "text/plain": "     fumo_n_fumo  fumo_s_fumo  alcool_n_alcool  alcool_s_alcool  \\\n0            1.0          0.0              1.0              0.0   \n1            1.0          0.0              1.0              0.0   \n2            1.0          0.0              1.0              0.0   \n3            1.0          0.0              1.0              0.0   \n4            1.0          0.0              1.0              0.0   \n..           ...          ...              ...              ...   \n340          1.0          0.0              0.0              0.0   \n341          1.0          0.0              1.0              0.0   \n342          1.0          0.0              1.0              0.0   \n343          1.0          0.0              1.0              0.0   \n344          1.0          0.0              1.0              0.0   \n\n     psicoativas_n_psico  psicoativas_s_psico  tpp_n_tpp  tpp_s_tpp  \\\n0                    1.0                  0.0        1.0        0.0   \n1                    1.0                  0.0        1.0        0.0   \n2                    1.0                  0.0        1.0        0.0   \n3                    0.0                  0.0        1.0        0.0   \n4                    1.0                  0.0        1.0        0.0   \n..                   ...                  ...        ...        ...   \n340                  0.0                  0.0        1.0        0.0   \n341                  0.0                  1.0        0.0        1.0   \n342                  1.0                  0.0        1.0        0.0   \n343                  0.0                  0.0        1.0        0.0   \n344                  1.0                  0.0        1.0        0.0   \n\n     dpp_n_dpp  dpp_s_dpp  ...  hiv_n_hiv  hiv_s_hiv  covid_mae_n_covid  \\\n0          1.0        0.0  ...        1.0        0.0                1.0   \n1          1.0        0.0  ...        1.0        0.0                1.0   \n2          1.0        0.0  ...        1.0        0.0                1.0   \n3          1.0        0.0  ...        1.0        0.0                1.0   \n4          1.0        0.0  ...        1.0        0.0                1.0   \n..         ...        ...  ...        ...        ...                ...   \n340        1.0        0.0  ...        1.0        0.0                1.0   \n341        1.0        0.0  ...        1.0        0.0                1.0   \n342        1.0        0.0  ...        1.0        0.0                1.0   \n343        1.0        0.0  ...        1.0        0.0                1.0   \n344        1.0        0.0  ...        1.0        0.0                1.0   \n\n     covid_mae_s_covid  dheg_n_dheg  dheg_s_dheg  dm_n_dm  dm_s_dm  \\\n0                  0.0          0.0          1.0      1.0      0.0   \n1                  0.0          1.0          0.0      1.0      0.0   \n2                  0.0          0.0          1.0      0.0      1.0   \n3                  0.0          1.0          0.0      1.0      0.0   \n4                  0.0          1.0          0.0      0.0      1.0   \n..                 ...          ...          ...      ...      ...   \n340                0.0          1.0          0.0      1.0      0.0   \n341                0.0          1.0          0.0      1.0      0.0   \n342                0.0          0.0          1.0      1.0      0.0   \n343                0.0          0.0          1.0      1.0      0.0   \n344                0.0          1.0          0.0      1.0      0.0   \n\n     sexo_Masculino  idade_materna  \n0               1.0       0.724138  \n1               1.0       0.551724  \n2               0.0       0.448276  \n3               0.0       0.241379  \n4               0.0       0.413793  \n..              ...            ...  \n340             0.0       0.241379  \n341             1.0       0.275862  \n342             1.0       0.689655  \n343             1.0       0.551724  \n344             1.0       0.620690  \n\n[345 rows x 24 columns]",
      "text/html": "<div>\n<style scoped>\n    .dataframe tbody tr th:only-of-type {\n        vertical-align: middle;\n    }\n\n    .dataframe tbody tr th {\n        vertical-align: top;\n    }\n\n    .dataframe thead th {\n        text-align: right;\n    }\n</style>\n<table border=\"1\" class=\"dataframe\">\n  <thead>\n    <tr style=\"text-align: right;\">\n      <th></th>\n      <th>fumo_n_fumo</th>\n      <th>fumo_s_fumo</th>\n      <th>alcool_n_alcool</th>\n      <th>alcool_s_alcool</th>\n      <th>psicoativas_n_psico</th>\n      <th>psicoativas_s_psico</th>\n      <th>tpp_n_tpp</th>\n      <th>tpp_s_tpp</th>\n      <th>dpp_n_dpp</th>\n      <th>dpp_s_dpp</th>\n      <th>...</th>\n      <th>hiv_n_hiv</th>\n      <th>hiv_s_hiv</th>\n      <th>covid_mae_n_covid</th>\n      <th>covid_mae_s_covid</th>\n      <th>dheg_n_dheg</th>\n      <th>dheg_s_dheg</th>\n      <th>dm_n_dm</th>\n      <th>dm_s_dm</th>\n      <th>sexo_Masculino</th>\n      <th>idade_materna</th>\n    </tr>\n  </thead>\n  <tbody>\n    <tr>\n      <th>0</th>\n      <td>1.0</td>\n      <td>0.0</td>\n      <td>1.0</td>\n      <td>0.0</td>\n      <td>1.0</td>\n      <td>0.0</td>\n      <td>1.0</td>\n      <td>0.0</td>\n      <td>1.0</td>\n      <td>0.0</td>\n      <td>...</td>\n      <td>1.0</td>\n      <td>0.0</td>\n      <td>1.0</td>\n      <td>0.0</td>\n      <td>0.0</td>\n      <td>1.0</td>\n      <td>1.0</td>\n      <td>0.0</td>\n      <td>1.0</td>\n      <td>0.724138</td>\n    </tr>\n    <tr>\n      <th>1</th>\n      <td>1.0</td>\n      <td>0.0</td>\n      <td>1.0</td>\n      <td>0.0</td>\n      <td>1.0</td>\n      <td>0.0</td>\n      <td>1.0</td>\n      <td>0.0</td>\n      <td>1.0</td>\n      <td>0.0</td>\n      <td>...</td>\n      <td>1.0</td>\n      <td>0.0</td>\n      <td>1.0</td>\n      <td>0.0</td>\n      <td>1.0</td>\n      <td>0.0</td>\n      <td>1.0</td>\n      <td>0.0</td>\n      <td>1.0</td>\n      <td>0.551724</td>\n    </tr>\n    <tr>\n      <th>2</th>\n      <td>1.0</td>\n      <td>0.0</td>\n      <td>1.0</td>\n      <td>0.0</td>\n      <td>1.0</td>\n      <td>0.0</td>\n      <td>1.0</td>\n      <td>0.0</td>\n      <td>1.0</td>\n      <td>0.0</td>\n      <td>...</td>\n      <td>1.0</td>\n      <td>0.0</td>\n      <td>1.0</td>\n      <td>0.0</td>\n      <td>0.0</td>\n      <td>1.0</td>\n      <td>0.0</td>\n      <td>1.0</td>\n      <td>0.0</td>\n      <td>0.448276</td>\n    </tr>\n    <tr>\n      <th>3</th>\n      <td>1.0</td>\n      <td>0.0</td>\n      <td>1.0</td>\n      <td>0.0</td>\n      <td>0.0</td>\n      <td>0.0</td>\n      <td>1.0</td>\n      <td>0.0</td>\n      <td>1.0</td>\n      <td>0.0</td>\n      <td>...</td>\n      <td>1.0</td>\n      <td>0.0</td>\n      <td>1.0</td>\n      <td>0.0</td>\n      <td>1.0</td>\n      <td>0.0</td>\n      <td>1.0</td>\n      <td>0.0</td>\n      <td>0.0</td>\n      <td>0.241379</td>\n    </tr>\n    <tr>\n      <th>4</th>\n      <td>1.0</td>\n      <td>0.0</td>\n      <td>1.0</td>\n      <td>0.0</td>\n      <td>1.0</td>\n      <td>0.0</td>\n      <td>1.0</td>\n      <td>0.0</td>\n      <td>1.0</td>\n      <td>0.0</td>\n      <td>...</td>\n      <td>1.0</td>\n      <td>0.0</td>\n      <td>1.0</td>\n      <td>0.0</td>\n      <td>1.0</td>\n      <td>0.0</td>\n      <td>0.0</td>\n      <td>1.0</td>\n      <td>0.0</td>\n      <td>0.413793</td>\n    </tr>\n    <tr>\n      <th>...</th>\n      <td>...</td>\n      <td>...</td>\n      <td>...</td>\n      <td>...</td>\n      <td>...</td>\n      <td>...</td>\n      <td>...</td>\n      <td>...</td>\n      <td>...</td>\n      <td>...</td>\n      <td>...</td>\n      <td>...</td>\n      <td>...</td>\n      <td>...</td>\n      <td>...</td>\n      <td>...</td>\n      <td>...</td>\n      <td>...</td>\n      <td>...</td>\n      <td>...</td>\n      <td>...</td>\n    </tr>\n    <tr>\n      <th>340</th>\n      <td>1.0</td>\n      <td>0.0</td>\n      <td>0.0</td>\n      <td>0.0</td>\n      <td>0.0</td>\n      <td>0.0</td>\n      <td>1.0</td>\n      <td>0.0</td>\n      <td>1.0</td>\n      <td>0.0</td>\n      <td>...</td>\n      <td>1.0</td>\n      <td>0.0</td>\n      <td>1.0</td>\n      <td>0.0</td>\n      <td>1.0</td>\n      <td>0.0</td>\n      <td>1.0</td>\n      <td>0.0</td>\n      <td>0.0</td>\n      <td>0.241379</td>\n    </tr>\n    <tr>\n      <th>341</th>\n      <td>1.0</td>\n      <td>0.0</td>\n      <td>1.0</td>\n      <td>0.0</td>\n      <td>0.0</td>\n      <td>1.0</td>\n      <td>0.0</td>\n      <td>1.0</td>\n      <td>1.0</td>\n      <td>0.0</td>\n      <td>...</td>\n      <td>1.0</td>\n      <td>0.0</td>\n      <td>1.0</td>\n      <td>0.0</td>\n      <td>1.0</td>\n      <td>0.0</td>\n      <td>1.0</td>\n      <td>0.0</td>\n      <td>1.0</td>\n      <td>0.275862</td>\n    </tr>\n    <tr>\n      <th>342</th>\n      <td>1.0</td>\n      <td>0.0</td>\n      <td>1.0</td>\n      <td>0.0</td>\n      <td>1.0</td>\n      <td>0.0</td>\n      <td>1.0</td>\n      <td>0.0</td>\n      <td>1.0</td>\n      <td>0.0</td>\n      <td>...</td>\n      <td>1.0</td>\n      <td>0.0</td>\n      <td>1.0</td>\n      <td>0.0</td>\n      <td>0.0</td>\n      <td>1.0</td>\n      <td>1.0</td>\n      <td>0.0</td>\n      <td>1.0</td>\n      <td>0.689655</td>\n    </tr>\n    <tr>\n      <th>343</th>\n      <td>1.0</td>\n      <td>0.0</td>\n      <td>1.0</td>\n      <td>0.0</td>\n      <td>0.0</td>\n      <td>0.0</td>\n      <td>1.0</td>\n      <td>0.0</td>\n      <td>1.0</td>\n      <td>0.0</td>\n      <td>...</td>\n      <td>1.0</td>\n      <td>0.0</td>\n      <td>1.0</td>\n      <td>0.0</td>\n      <td>0.0</td>\n      <td>1.0</td>\n      <td>1.0</td>\n      <td>0.0</td>\n      <td>1.0</td>\n      <td>0.551724</td>\n    </tr>\n    <tr>\n      <th>344</th>\n      <td>1.0</td>\n      <td>0.0</td>\n      <td>1.0</td>\n      <td>0.0</td>\n      <td>1.0</td>\n      <td>0.0</td>\n      <td>1.0</td>\n      <td>0.0</td>\n      <td>1.0</td>\n      <td>0.0</td>\n      <td>...</td>\n      <td>1.0</td>\n      <td>0.0</td>\n      <td>1.0</td>\n      <td>0.0</td>\n      <td>1.0</td>\n      <td>0.0</td>\n      <td>1.0</td>\n      <td>0.0</td>\n      <td>1.0</td>\n      <td>0.620690</td>\n    </tr>\n  </tbody>\n</table>\n<p>345 rows × 24 columns</p>\n</div>"
     },
     "execution_count": 48,
     "metadata": {},
     "output_type": "execute_result"
    }
   ],
   "source": [
    "df_train_set"
   ],
   "metadata": {
    "collapsed": false,
    "pycharm": {
     "name": "#%%\n"
    }
   }
  },
  {
   "cell_type": "code",
   "execution_count": 60,
   "outputs": [],
   "source": [
    "dfcopy = df_train_set"
   ],
   "metadata": {
    "collapsed": false,
    "pycharm": {
     "name": "#%%\n"
    }
   }
  },
  {
   "cell_type": "code",
   "execution_count": 61,
   "outputs": [],
   "source": [
    "dfcopy['reanimacao'] = df_target_set"
   ],
   "metadata": {
    "collapsed": false,
    "pycharm": {
     "name": "#%%\n"
    }
   }
  },
  {
   "cell_type": "code",
   "execution_count": 63,
   "outputs": [],
   "source": [
    "df_final = dfcopy"
   ],
   "metadata": {
    "collapsed": false,
    "pycharm": {
     "name": "#%%\n"
    }
   }
  },
  {
   "cell_type": "code",
   "execution_count": 65,
   "outputs": [],
   "source": [
    "df_final.to_csv('df_rean.csv')"
   ],
   "metadata": {
    "collapsed": false,
    "pycharm": {
     "name": "#%%\n"
    }
   }
  },
  {
   "cell_type": "code",
   "execution_count": 66,
   "outputs": [
    {
     "name": "stdout",
     "output_type": "stream",
     "text": [
      "\u001B[34m\u001B[1mwandb\u001B[0m: Uploading file df_rean.csv to: \"ecalasans/mlprojfinal/df_rean.csv:latest\" (rean_joined)\r\n",
      "\u001B[34m\u001B[1mwandb\u001B[0m: Currently logged in as: \u001B[33mecalasans\u001B[0m. Use \u001B[1m`wandb login --relogin`\u001B[0m to force relogin\r\n",
      "\u001B[34m\u001B[1mwandb\u001B[0m: wandb version 0.12.20 is available!  To upgrade, please run:\r\n",
      "\u001B[34m\u001B[1mwandb\u001B[0m:  $ pip install wandb --upgrade\r\n",
      "\u001B[34m\u001B[1mwandb\u001B[0m: Tracking run with wandb version 0.12.16\r\n",
      "\u001B[34m\u001B[1mwandb\u001B[0m: Run data is saved locally in \u001B[35m\u001B[1m/Users/ericcalasans/Documents/Projetos/mlprojfinal/wandb/run-20220701_063939-fgylptb4\u001B[0m\r\n",
      "\u001B[34m\u001B[1mwandb\u001B[0m: Run \u001B[1m`wandb offline`\u001B[0m to turn off syncing.\r\n",
      "\u001B[34m\u001B[1mwandb\u001B[0m: Syncing run \u001B[33mdriven-serenity-1\u001B[0m\r\n",
      "\u001B[34m\u001B[1mwandb\u001B[0m: ⭐️ View project at \u001B[34m\u001B[4mhttps://wandb.ai/ecalasans/mlprojfinal\u001B[0m\r\n",
      "\u001B[34m\u001B[1mwandb\u001B[0m: 🚀 View run at \u001B[34m\u001B[4mhttps://wandb.ai/ecalasans/mlprojfinal/runs/fgylptb4\u001B[0m\r\n",
      "Artifact uploaded, use this artifact in a run by adding:\r\n",
      "\r\n",
      "    artifact = run.use_artifact(\"ecalasans/mlprojfinal/df_rean.csv:latest\")\r\n",
      "\r\n",
      "\u001B[34m\u001B[1mwandb\u001B[0m: Waiting for W&B process to finish... \u001B[32m(success).\u001B[0m\r\n",
      "\u001B[34m\u001B[1mwandb\u001B[0m:                                                                                \r\n",
      "\u001B[34m\u001B[1mwandb\u001B[0m: Synced \u001B[33mdriven-serenity-1\u001B[0m: \u001B[34m\u001B[4mhttps://wandb.ai/ecalasans/mlprojfinal/runs/fgylptb4\u001B[0m\r\n",
      "\u001B[34m\u001B[1mwandb\u001B[0m: Synced 6 W&B file(s), 0 media file(s), 1 artifact file(s) and 0 other file(s)\r\n",
      "\u001B[34m\u001B[1mwandb\u001B[0m: Find logs at: \u001B[35m\u001B[1m./wandb/run-20220701_063939-fgylptb4/logs\u001B[0m\r\n"
     ]
    }
   ],
   "source": [
    "!wandb artifact put --name mlprojfinal/df_rean.csv --type rean_joined --description \"Full coded dataset\" df_rean.csv"
   ],
   "metadata": {
    "collapsed": false,
    "pycharm": {
     "name": "#%%\n"
    }
   }
  },
  {
   "cell_type": "code",
   "execution_count": 67,
   "outputs": [
    {
     "data": {
      "text/plain": "<IPython.core.display.HTML object>",
      "text/html": "Waiting for W&B process to finish... <strong style=\"color:green\">(success).</strong>"
     },
     "metadata": {},
     "output_type": "display_data"
    },
    {
     "data": {
      "text/plain": "VBox(children=(Label(value='0.001 MB of 0.001 MB uploaded (0.000 MB deduped)\\r'), FloatProgress(value=1.0, max…",
      "application/vnd.jupyter.widget-view+json": {
       "version_major": 2,
       "version_minor": 0,
       "model_id": "f8169f32d10b438b8100d08a032ebd88"
      }
     },
     "metadata": {},
     "output_type": "display_data"
    },
    {
     "data": {
      "text/plain": "<IPython.core.display.HTML object>",
      "text/html": "Synced <strong style=\"color:#cdcd00\">devout-armadillo-193</strong>: <a href=\"https://wandb.ai/ecalasans/mlreanimacao/runs/wkw5n2d4\" target=\"_blank\">https://wandb.ai/ecalasans/mlreanimacao/runs/wkw5n2d4</a><br/>Synced 6 W&B file(s), 0 media file(s), 0 artifact file(s) and 0 other file(s)"
     },
     "metadata": {},
     "output_type": "display_data"
    },
    {
     "data": {
      "text/plain": "<IPython.core.display.HTML object>",
      "text/html": "Find logs at: <code>./wandb/run-20220701_055014-wkw5n2d4/logs</code>"
     },
     "metadata": {},
     "output_type": "display_data"
    }
   ],
   "source": [
    "run.finish()"
   ],
   "metadata": {
    "collapsed": false,
    "pycharm": {
     "name": "#%%\n"
    }
   }
  },
  {
   "cell_type": "code",
   "execution_count": null,
   "outputs": [],
   "source": [],
   "metadata": {
    "collapsed": false,
    "pycharm": {
     "name": "#%%\n"
    }
   }
  }
 ],
 "metadata": {
  "kernelspec": {
   "display_name": "Python 3",
   "language": "python",
   "name": "python3"
  },
  "language_info": {
   "codemirror_mode": {
    "name": "ipython",
    "version": 2
   },
   "file_extension": ".py",
   "mimetype": "text/x-python",
   "name": "python",
   "nbconvert_exporter": "python",
   "pygments_lexer": "ipython2",
   "version": "2.7.6"
  }
 },
 "nbformat": 4,
 "nbformat_minor": 0
}