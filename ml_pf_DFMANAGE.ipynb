{
 "cells": [
  {
   "cell_type": "markdown",
   "source": [
    "# Avaliação de Um Modelo de Redes Neurais Artificiais em Neonatologia\n",
    "Projeto final da Disciplina de Aprendizagem de Máquina - PPgEEC/UFRN\n",
    "\n",
    "### Notebook 1 - CONFECÇÃO DO ARTEFATO"
   ],
   "metadata": {
    "collapsed": false,
    "pycharm": {
     "name": "#%% md\n"
    }
   }
  },
  {
   "cell_type": "markdown",
   "source": [
    "### 1.  Configurações Iniciais"
   ],
   "metadata": {
    "collapsed": false,
    "pycharm": {
     "name": "#%% md\n"
    }
   }
  },
  {
   "cell_type": "code",
   "execution_count": 1,
   "outputs": [],
   "source": [
    "# Módulos\n",
    "import logging\n",
    "import wandb\n",
    "import pandas as pd\n",
    "import numpy as np\n",
    "import joblib\n",
    "import matplotlib.pyplot as plt\n",
    "from sklearn.model_selection import train_test_split\n",
    "from sklearn.neighbors import LocalOutlierFactor\n",
    "from sklearn.preprocessing import LabelEncoder\n",
    "from sklearn.preprocessing import OneHotEncoder\n",
    "from sklearn.base import BaseEstimator, TransformerMixin\n",
    "from sklearn.preprocessing import MinMaxScaler\n",
    "from sklearn.preprocessing import StandardScaler\n",
    "from sklearn.preprocessing import OneHotEncoder\n",
    "from sklearn.pipeline import Pipeline, FeatureUnion\n",
    "from sklearn.tree import DecisionTreeClassifier\n",
    "from sklearn.impute import SimpleImputer\n",
    "from sklearn.metrics import fbeta_score, precision_score, recall_score, accuracy_score\n",
    "from sklearn.metrics import classification_report\n",
    "from sklearn.metrics import confusion_matrix\n",
    "from sklearn.metrics import ConfusionMatrixDisplay\n",
    "from dotenv import load_dotenv\n",
    "import os\n",
    "\n",
    "%matplotlib inline"
   ],
   "metadata": {
    "collapsed": false,
    "pycharm": {
     "name": "#%%\n"
    }
   }
  },
  {
   "cell_type": "markdown",
   "source": [
    "### 2.  Variáveis Auxiliares"
   ],
   "metadata": {
    "collapsed": false,
    "pycharm": {
     "name": "#%% md\n"
    }
   }
  },
  {
   "cell_type": "code",
   "execution_count": 2,
   "outputs": [],
   "source": [
    "# Tamanho do conjunto de teste(fração do dataset que é utilizada como dados de teste)\n",
    "val_size = 0.1\n",
    "\n",
    "# Coeficiente de aleatoriedade\n",
    "seed = 1618\n",
    "\n",
    "# Variável alvo(target)\n",
    "stratify = 'reanimacao'\n",
    "\n",
    "# Artefato de entrada\n",
    "input_artifact = 'mlreanimacao/clean_data.csv:latest'\n",
    "\n",
    "# Tipo do artefato\n",
    "artifact_type = 'Train'"
   ],
   "metadata": {
    "collapsed": false,
    "pycharm": {
     "name": "#%%\n"
    }
   }
  },
  {
   "cell_type": "markdown",
   "source": [
    "### 3. Aquisição de Artefatos"
   ],
   "metadata": {
    "collapsed": false,
    "pycharm": {
     "name": "#%% md\n"
    }
   }
  },
  {
   "cell_type": "code",
   "execution_count": 3,
   "outputs": [],
   "source": [
    "# Leitura de variáveis de ambiente\n",
    "load_dotenv('config.env')\n",
    "HASH_WANDB = os.getenv(\"HASH\")"
   ],
   "metadata": {
    "collapsed": false,
    "pycharm": {
     "name": "#%%\n"
    }
   }
  },
  {
   "cell_type": "code",
   "execution_count": 4,
   "outputs": [
    {
     "name": "stdout",
     "output_type": "stream",
     "text": [
      "\u001B[34m\u001B[1mwandb\u001B[0m: Appending key for api.wandb.ai to your netrc file: /Users/ericcalasans/.netrc\r\n"
     ]
    }
   ],
   "source": [
    "!wandb login $HASH_WANDB --relogin"
   ],
   "metadata": {
    "collapsed": false,
    "pycharm": {
     "name": "#%%\n"
    }
   }
  },
  {
   "cell_type": "markdown",
   "source": [
    "Configurações de Log"
   ],
   "metadata": {
    "collapsed": false,
    "pycharm": {
     "name": "#%% md\n"
    }
   }
  },
  {
   "cell_type": "code",
   "execution_count": 5,
   "outputs": [],
   "source": [
    "logging.basicConfig(level=logging.INFO,\n",
    "                    format=\"%(asctime)s %(message)s\",\n",
    "                    datefmt='%d-%m-%Y %H:%M:%S')\n",
    "\n",
    "# Objeto logging\n",
    "logger = logging.getLogger()"
   ],
   "metadata": {
    "collapsed": false,
    "pycharm": {
     "name": "#%%\n"
    }
   }
  },
  {
   "cell_type": "code",
   "execution_count": 31,
   "outputs": [
    {
     "data": {
      "text/plain": "<IPython.core.display.HTML object>",
      "text/html": "Finishing last run (ID:3cwot50a) before initializing another..."
     },
     "metadata": {},
     "output_type": "display_data"
    },
    {
     "data": {
      "text/plain": "<IPython.core.display.HTML object>",
      "text/html": "Waiting for W&B process to finish... <strong style=\"color:green\">(success).</strong>"
     },
     "metadata": {},
     "output_type": "display_data"
    },
    {
     "data": {
      "text/plain": "VBox(children=(Label(value='0.001 MB of 0.001 MB uploaded (0.000 MB deduped)\\r'), FloatProgress(value=1.0, max…",
      "application/vnd.jupyter.widget-view+json": {
       "version_major": 2,
       "version_minor": 0,
       "model_id": "d921842f811243a5a27aa70aa6fc3282"
      }
     },
     "metadata": {},
     "output_type": "display_data"
    },
    {
     "data": {
      "text/plain": "<IPython.core.display.HTML object>",
      "text/html": "Synced <strong style=\"color:#cdcd00\">fragrant-cherry-231</strong>: <a href=\"https://wandb.ai/ecalasans/mlreanimacao/runs/3cwot50a\" target=\"_blank\">https://wandb.ai/ecalasans/mlreanimacao/runs/3cwot50a</a><br/>Synced 6 W&B file(s), 0 media file(s), 0 artifact file(s) and 0 other file(s)"
     },
     "metadata": {},
     "output_type": "display_data"
    },
    {
     "data": {
      "text/plain": "<IPython.core.display.HTML object>",
      "text/html": "Find logs at: <code>./wandb/run-20220722_134005-3cwot50a/logs</code>"
     },
     "metadata": {},
     "output_type": "display_data"
    },
    {
     "data": {
      "text/plain": "<IPython.core.display.HTML object>",
      "text/html": "Successfully finished last run (ID:3cwot50a). Initializing new run:<br/>"
     },
     "metadata": {},
     "output_type": "display_data"
    },
    {
     "data": {
      "text/plain": "<IPython.core.display.HTML object>",
      "text/html": "Tracking run with wandb version 0.12.21"
     },
     "metadata": {},
     "output_type": "display_data"
    },
    {
     "data": {
      "text/plain": "<IPython.core.display.HTML object>",
      "text/html": "Run data is saved locally in <code>/Users/ericcalasans/Documents/Projetos/mlprojfinal/wandb/run-20220722_134147-382res56</code>"
     },
     "metadata": {},
     "output_type": "display_data"
    },
    {
     "data": {
      "text/plain": "<IPython.core.display.HTML object>",
      "text/html": "Syncing run <strong><a href=\"https://wandb.ai/ecalasans/mlreanimacao/runs/382res56\" target=\"_blank\">wobbly-grass-232</a></strong> to <a href=\"https://wandb.ai/ecalasans/mlreanimacao\" target=\"_blank\">Weights & Biases</a> (<a href=\"https://wandb.me/run\" target=\"_blank\">docs</a>)<br/>"
     },
     "metadata": {},
     "output_type": "display_data"
    },
    {
     "name": "stderr",
     "output_type": "stream",
     "text": [
      "22-07-2022 13:42:02 Baixando artefato e realizando leitura...\n"
     ]
    }
   ],
   "source": [
    "run = wandb.init(project='mlreanimacao', job_type='train')\n",
    "\n",
    "# Registra um log desta ação\n",
    "logger.info(\"Baixando artefato e realizando leitura...\")\n",
    "artifact = run.use_artifact(input_artifact)\n",
    "artifact_file = artifact.file()\n",
    "df_total = pd.read_csv(artifact_file)"
   ],
   "metadata": {
    "collapsed": false,
    "pycharm": {
     "name": "#%%\n"
    }
   }
  },
  {
   "cell_type": "code",
   "execution_count": 32,
   "outputs": [
    {
     "data": {
      "text/plain": "     idade_materna    fumo    alcool psicoativas    tpp    dpp oligoamnio  \\\n0             20.0  n_fumo  n_alcool     n_psico  n_tpp  n_dpp    n_oligo   \n1             21.0  n_fumo  n_alcool     n_psico  n_tpp  n_dpp    n_oligo   \n2             16.0  n_fumo  n_alcool     n_psico  n_tpp  n_dpp    n_oligo   \n3             40.0  n_fumo  n_alcool     n_psico  n_tpp  n_dpp    d_oligo   \n4             24.0  n_fumo  n_alcool     n_psico  n_tpp  s_dpp    d_oligo   \n..             ...     ...       ...         ...    ...    ...        ...   \n498           35.0  n_fumo  n_alcool     n_psico  n_tpp  n_dpp    n_oligo   \n499           29.0  n_fumo  n_alcool     n_psico  n_tpp  n_dpp    n_oligo   \n500           31.0  n_fumo  n_alcool     n_psico  n_tpp  n_dpp    n_oligo   \n501           27.0  s_fumo  n_alcool     n_psico  n_tpp  n_dpp    n_oligo   \n502           23.0  n_fumo  n_alcool     n_psico  n_tpp  n_dpp    n_oligo   \n\n       sifilis    hiv covid_mae    dheg    dm       sexo reanimacao  \n0    d_sifilis  d_hiv   n_covid  n_dheg  n_dm  Masculino         nr  \n1    n_sifilis  n_hiv   n_covid  n_dheg  n_dm   Feminino         sr  \n2    n_sifilis  n_hiv   n_covid  s_dheg  d_dm  Masculino         sr  \n3    n_sifilis  n_hiv   n_covid  s_dheg  n_dm   Feminino         nr  \n4    s_sifilis  n_hiv   n_covid  s_dheg  n_dm  Masculino         nr  \n..         ...    ...       ...     ...   ...        ...        ...  \n498  n_sifilis  n_hiv   n_covid  n_dheg  n_dm  Masculino         sr  \n499  n_sifilis  n_hiv   n_covid  n_dheg  n_dm   Feminino         sr  \n500  n_sifilis  d_hiv   n_covid  d_dheg  d_dm  Masculino         sr  \n501  n_sifilis  n_hiv   n_covid  n_dheg  n_dm  Masculino         nr  \n502  n_sifilis  n_hiv   n_covid  n_dheg  n_dm  Masculino         sr  \n\n[503 rows x 14 columns]",
      "text/html": "<div>\n<style scoped>\n    .dataframe tbody tr th:only-of-type {\n        vertical-align: middle;\n    }\n\n    .dataframe tbody tr th {\n        vertical-align: top;\n    }\n\n    .dataframe thead th {\n        text-align: right;\n    }\n</style>\n<table border=\"1\" class=\"dataframe\">\n  <thead>\n    <tr style=\"text-align: right;\">\n      <th></th>\n      <th>idade_materna</th>\n      <th>fumo</th>\n      <th>alcool</th>\n      <th>psicoativas</th>\n      <th>tpp</th>\n      <th>dpp</th>\n      <th>oligoamnio</th>\n      <th>sifilis</th>\n      <th>hiv</th>\n      <th>covid_mae</th>\n      <th>dheg</th>\n      <th>dm</th>\n      <th>sexo</th>\n      <th>reanimacao</th>\n    </tr>\n  </thead>\n  <tbody>\n    <tr>\n      <th>0</th>\n      <td>20.0</td>\n      <td>n_fumo</td>\n      <td>n_alcool</td>\n      <td>n_psico</td>\n      <td>n_tpp</td>\n      <td>n_dpp</td>\n      <td>n_oligo</td>\n      <td>d_sifilis</td>\n      <td>d_hiv</td>\n      <td>n_covid</td>\n      <td>n_dheg</td>\n      <td>n_dm</td>\n      <td>Masculino</td>\n      <td>nr</td>\n    </tr>\n    <tr>\n      <th>1</th>\n      <td>21.0</td>\n      <td>n_fumo</td>\n      <td>n_alcool</td>\n      <td>n_psico</td>\n      <td>n_tpp</td>\n      <td>n_dpp</td>\n      <td>n_oligo</td>\n      <td>n_sifilis</td>\n      <td>n_hiv</td>\n      <td>n_covid</td>\n      <td>n_dheg</td>\n      <td>n_dm</td>\n      <td>Feminino</td>\n      <td>sr</td>\n    </tr>\n    <tr>\n      <th>2</th>\n      <td>16.0</td>\n      <td>n_fumo</td>\n      <td>n_alcool</td>\n      <td>n_psico</td>\n      <td>n_tpp</td>\n      <td>n_dpp</td>\n      <td>n_oligo</td>\n      <td>n_sifilis</td>\n      <td>n_hiv</td>\n      <td>n_covid</td>\n      <td>s_dheg</td>\n      <td>d_dm</td>\n      <td>Masculino</td>\n      <td>sr</td>\n    </tr>\n    <tr>\n      <th>3</th>\n      <td>40.0</td>\n      <td>n_fumo</td>\n      <td>n_alcool</td>\n      <td>n_psico</td>\n      <td>n_tpp</td>\n      <td>n_dpp</td>\n      <td>d_oligo</td>\n      <td>n_sifilis</td>\n      <td>n_hiv</td>\n      <td>n_covid</td>\n      <td>s_dheg</td>\n      <td>n_dm</td>\n      <td>Feminino</td>\n      <td>nr</td>\n    </tr>\n    <tr>\n      <th>4</th>\n      <td>24.0</td>\n      <td>n_fumo</td>\n      <td>n_alcool</td>\n      <td>n_psico</td>\n      <td>n_tpp</td>\n      <td>s_dpp</td>\n      <td>d_oligo</td>\n      <td>s_sifilis</td>\n      <td>n_hiv</td>\n      <td>n_covid</td>\n      <td>s_dheg</td>\n      <td>n_dm</td>\n      <td>Masculino</td>\n      <td>nr</td>\n    </tr>\n    <tr>\n      <th>...</th>\n      <td>...</td>\n      <td>...</td>\n      <td>...</td>\n      <td>...</td>\n      <td>...</td>\n      <td>...</td>\n      <td>...</td>\n      <td>...</td>\n      <td>...</td>\n      <td>...</td>\n      <td>...</td>\n      <td>...</td>\n      <td>...</td>\n      <td>...</td>\n    </tr>\n    <tr>\n      <th>498</th>\n      <td>35.0</td>\n      <td>n_fumo</td>\n      <td>n_alcool</td>\n      <td>n_psico</td>\n      <td>n_tpp</td>\n      <td>n_dpp</td>\n      <td>n_oligo</td>\n      <td>n_sifilis</td>\n      <td>n_hiv</td>\n      <td>n_covid</td>\n      <td>n_dheg</td>\n      <td>n_dm</td>\n      <td>Masculino</td>\n      <td>sr</td>\n    </tr>\n    <tr>\n      <th>499</th>\n      <td>29.0</td>\n      <td>n_fumo</td>\n      <td>n_alcool</td>\n      <td>n_psico</td>\n      <td>n_tpp</td>\n      <td>n_dpp</td>\n      <td>n_oligo</td>\n      <td>n_sifilis</td>\n      <td>n_hiv</td>\n      <td>n_covid</td>\n      <td>n_dheg</td>\n      <td>n_dm</td>\n      <td>Feminino</td>\n      <td>sr</td>\n    </tr>\n    <tr>\n      <th>500</th>\n      <td>31.0</td>\n      <td>n_fumo</td>\n      <td>n_alcool</td>\n      <td>n_psico</td>\n      <td>n_tpp</td>\n      <td>n_dpp</td>\n      <td>n_oligo</td>\n      <td>n_sifilis</td>\n      <td>d_hiv</td>\n      <td>n_covid</td>\n      <td>d_dheg</td>\n      <td>d_dm</td>\n      <td>Masculino</td>\n      <td>sr</td>\n    </tr>\n    <tr>\n      <th>501</th>\n      <td>27.0</td>\n      <td>s_fumo</td>\n      <td>n_alcool</td>\n      <td>n_psico</td>\n      <td>n_tpp</td>\n      <td>n_dpp</td>\n      <td>n_oligo</td>\n      <td>n_sifilis</td>\n      <td>n_hiv</td>\n      <td>n_covid</td>\n      <td>n_dheg</td>\n      <td>n_dm</td>\n      <td>Masculino</td>\n      <td>nr</td>\n    </tr>\n    <tr>\n      <th>502</th>\n      <td>23.0</td>\n      <td>n_fumo</td>\n      <td>n_alcool</td>\n      <td>n_psico</td>\n      <td>n_tpp</td>\n      <td>n_dpp</td>\n      <td>n_oligo</td>\n      <td>n_sifilis</td>\n      <td>n_hiv</td>\n      <td>n_covid</td>\n      <td>n_dheg</td>\n      <td>n_dm</td>\n      <td>Masculino</td>\n      <td>sr</td>\n    </tr>\n  </tbody>\n</table>\n<p>503 rows × 14 columns</p>\n</div>"
     },
     "execution_count": 32,
     "metadata": {},
     "output_type": "execute_result"
    }
   ],
   "source": [
    "df_total"
   ],
   "metadata": {
    "collapsed": false,
    "pycharm": {
     "name": "#%%\n"
    }
   }
  },
  {
   "cell_type": "markdown",
   "source": [
    "## 4. Preparação do *Dataset*"
   ],
   "metadata": {
    "collapsed": false,
    "pycharm": {
     "name": "#%% md\n"
    }
   }
  },
  {
   "cell_type": "markdown",
   "source": [
    "### 4.1. Remoção de Outliers"
   ],
   "metadata": {
    "collapsed": false,
    "pycharm": {
     "name": "#%% md\n"
    }
   }
  },
  {
   "cell_type": "code",
   "execution_count": 8,
   "outputs": [
    {
     "name": "stderr",
     "output_type": "stream",
     "text": [
      "22-07-2022 13:40:22 Remoção de outliers\n"
     ]
    }
   ],
   "source": [
    "logger.info(\"Remoção de outliers\")\n",
    "\n",
    "# Variável temporária\n",
    "x = df_total['idade_materna'].copy()\n",
    "\n",
    "# Redimensiona variável para adequar ao procedimento - técnica sugerida pela mensagem de erro\n",
    "x = x.values.reshape(-1, 1)\n",
    "\n",
    "# Identifica e prevê outliers em um único passo\n",
    "lof = LocalOutlierFactor()\n",
    "outlier = lof.fit_predict(x)\n",
    "mask = outlier != -1"
   ],
   "metadata": {
    "collapsed": false,
    "pycharm": {
     "name": "#%%\n"
    }
   }
  },
  {
   "cell_type": "code",
   "execution_count": 9,
   "outputs": [
    {
     "name": "stderr",
     "output_type": "stream",
     "text": [
      "22-07-2022 13:40:24 x_train shape [original]: (503, 14)\n",
      "22-07-2022 13:40:24 x_train shape [outlier removal]: (427, 14)\n"
     ]
    }
   ],
   "source": [
    "logger.info(\"x_train shape [original]: {}\".format(df_total.shape))\n",
    "logger.info(\"x_train shape [outlier removal]: {}\".format(df_total.loc[mask,:].shape))"
   ],
   "metadata": {
    "collapsed": false,
    "pycharm": {
     "name": "#%%\n"
    }
   }
  },
  {
   "cell_type": "code",
   "execution_count": 10,
   "outputs": [],
   "source": [
    "df_total = df_total.loc[mask,:].copy()\n"
   ],
   "metadata": {
    "collapsed": false,
    "pycharm": {
     "name": "#%%\n"
    }
   }
  },
  {
   "cell_type": "code",
   "execution_count": 33,
   "outputs": [
    {
     "data": {
      "text/plain": "array(['nr', 'sr'], dtype=object)"
     },
     "execution_count": 33,
     "metadata": {},
     "output_type": "execute_result"
    }
   ],
   "source": [
    "df_total['reanimacao'].unique()"
   ],
   "metadata": {
    "collapsed": false,
    "pycharm": {
     "name": "#%%\n"
    }
   }
  },
  {
   "cell_type": "markdown",
   "source": [
    "### 4.2.  Codificação da Variável *Target*"
   ],
   "metadata": {
    "collapsed": false,
    "pycharm": {
     "name": "#%% md\n"
    }
   }
  },
  {
   "cell_type": "code",
   "execution_count": 34,
   "outputs": [
    {
     "name": "stderr",
     "output_type": "stream",
     "text": [
      "22-07-2022 13:42:25 Codificando variável target\n",
      "22-07-2022 13:42:25 Classes [0, 1]: ['nr' 'sr']\n"
     ]
    }
   ],
   "source": [
    "logger.info(\"Codificando variável target\")\n",
    "# Objeto codificador\n",
    "le = LabelEncoder()\n",
    "\n",
    "# Treinamento e transformação do conjunto de treinamento\n",
    "df_total['reanimacao'] = le.fit_transform(df_total['reanimacao'])\n",
    "\n",
    "logger.info(\"Classes [0, 1]: {}\".format(le.inverse_transform([0, 1])))"
   ],
   "metadata": {
    "collapsed": false,
    "pycharm": {
     "name": "#%%\n"
    }
   }
  },
  {
   "cell_type": "code",
   "execution_count": 35,
   "outputs": [
    {
     "data": {
      "text/plain": "array([0, 1])"
     },
     "execution_count": 35,
     "metadata": {},
     "output_type": "execute_result"
    }
   ],
   "source": [
    "df_total['reanimacao'].unique()"
   ],
   "metadata": {
    "collapsed": false,
    "pycharm": {
     "name": "#%%\n"
    }
   }
  },
  {
   "cell_type": "markdown",
   "source": [
    "Retirada da variável *target* das *features*"
   ],
   "metadata": {
    "collapsed": false,
    "pycharm": {
     "name": "#%% md\n"
    }
   }
  },
  {
   "cell_type": "code",
   "execution_count": 36,
   "outputs": [],
   "source": [
    "df_target = df_total['reanimacao']\n",
    "df_features = df_total.drop(columns=['reanimacao'], axis=1)"
   ],
   "metadata": {
    "collapsed": false,
    "pycharm": {
     "name": "#%%\n"
    }
   }
  },
  {
   "cell_type": "code",
   "execution_count": 37,
   "outputs": [
    {
     "data": {
      "text/plain": "(503, 13)"
     },
     "execution_count": 37,
     "metadata": {},
     "output_type": "execute_result"
    }
   ],
   "source": [
    "df_features.shape"
   ],
   "metadata": {
    "collapsed": false,
    "pycharm": {
     "name": "#%%\n"
    }
   }
  },
  {
   "cell_type": "code",
   "execution_count": 38,
   "outputs": [
    {
     "data": {
      "text/plain": "0      0\n1      1\n2      1\n3      0\n4      0\n      ..\n498    1\n499    1\n500    1\n501    0\n502    1\nName: reanimacao, Length: 503, dtype: int64"
     },
     "execution_count": 38,
     "metadata": {},
     "output_type": "execute_result"
    }
   ],
   "source": [
    "df_target"
   ],
   "metadata": {
    "collapsed": false,
    "pycharm": {
     "name": "#%%\n"
    }
   }
  },
  {
   "cell_type": "markdown",
   "source": [
    "## 5. Construção do *Pipeline*"
   ],
   "metadata": {
    "collapsed": false,
    "pycharm": {
     "name": "#%% md\n"
    }
   }
  },
  {
   "cell_type": "markdown",
   "source": [
    "### 5.1. Criação da Classe **FeatureSelection**"
   ],
   "metadata": {
    "collapsed": false,
    "pycharm": {
     "name": "#%% md\n"
    }
   }
  },
  {
   "cell_type": "code",
   "execution_count": 39,
   "outputs": [],
   "source": [
    "class FeatureSelector(BaseEstimator, TransformerMixin):\n",
    "    # Construtor\n",
    "    def __init__(self, feature_names):\n",
    "        self.feature_names = feature_names\n",
    "\n",
    "    # Override de fit\n",
    "    def fit(self, X, y=None):\n",
    "        return self\n",
    "\n",
    "    # Retorna as colunas passadas no construtor\n",
    "    def transform(self, X, y=None):\n",
    "        return X[self.feature_names]"
   ],
   "metadata": {
    "collapsed": false,
    "pycharm": {
     "name": "#%%\n"
    }
   }
  },
  {
   "cell_type": "markdown",
   "source": [
    "### 5.2. Criação da Classe **CategoricalTransformer**"
   ],
   "metadata": {
    "collapsed": false,
    "pycharm": {
     "name": "#%% md\n"
    }
   }
  },
  {
   "cell_type": "code",
   "execution_count": 40,
   "outputs": [],
   "source": [
    "class CategoricalTransformer(BaseEstimator, TransformerMixin):\n",
    "    # Construtor\n",
    "    def __init__(self, new_features=True, colnames=None):\n",
    "        self.new_features = new_features\n",
    "        self.colnames = colnames\n",
    "\n",
    "    # Override de fit\n",
    "    def fit(self, X, y=None):\n",
    "        return self\n",
    "\n",
    "    # Override de get_feature_names_out\n",
    "    def get_feature_names_out(self):\n",
    "        return self.colnames.tolist()\n",
    "\n",
    "    # Transformer method we wrote for this transformer\n",
    "    def transform(self, X, y=None):\n",
    "        df = pd.DataFrame(X, columns=self.colnames)\n",
    "\n",
    "        # Remove eventuais espaços em branco dos valores - a princípio isso não existe na base de dados\n",
    "        df = df.apply(lambda row: row.str.strip())\n",
    "\n",
    "        # Opção de fazer preprocessamento se new_features for True(padrão da classe)\n",
    "        if self.new_features:\n",
    "            df['fumo'].fillna(2, inplace=True)\n",
    "            df['alcool'].fillna(2, inplace=True)\n",
    "            df['psicoativas'].fillna(2, inplace=True)\n",
    "            df['tpp'].fillna(2, inplace=True)\n",
    "            df['dheg'].fillna(2, inplace=True)\n",
    "            df['dm'].fillna(2, inplace=True)\n",
    "            df['sexo'].fillna(3, inplace=True)\n",
    "            df['oligoamnio'].fillna(2, inplace=True)\n",
    "            df['dpp'].fillna(2, inplace=True)\n",
    "            df['sifilis'].fillna(2, inplace=True)\n",
    "            df['hiv'].fillna(2, inplace=True)\n",
    "            df['covid_mae'].fillna(2, inplace=True)\n",
    "\n",
    "            # Elimina valores com sexo indefinido\n",
    "            df.drop(df[df['sexo'] == 3].index, inplace=True)\n",
    "\n",
    "            # Categoriza as features pois o artefato retorna sempre valores numéricos\n",
    "            df['fumo'].replace([0, 1, 2, 3], ['n_fumo', 's_fumo', 'n_fumo', 'd_fumo'], inplace=True)\n",
    "            df['alcool'].replace([0, 1, 2, 3], ['n_alcool', 's_alcool', 'n_alcool', 'd_alcool'], inplace=True)\n",
    "            df['psicoativas'].replace([0, 1, 2, 3], ['n_psico', 's_psico', 'n_psico', 'd_psico'], inplace=True)\n",
    "            df['tpp'].replace([0, 1, 2, 3], ['n_tpp', 's_tpp', 'n_tpp', 'd_tpp'], inplace=True)\n",
    "            df['dheg'].replace([0, 1, 2, 3], ['n_dheg', 's_dheg', 'n_dheg', 'd_dheg'], inplace=True)\n",
    "\n",
    "            # Melhor adequação da feature sexo\n",
    "            df['sexo'].replace([1,2], ['Feminino', 'Masculino'], inplace=True)\n",
    "            df['dpp'].replace([0, 1, 2, 3], ['n_dpp', 's_dpp', 'n_dpp', 'd_dpp'], inplace=True)\n",
    "            df['oligoamnio'].replace([0, 1, 2, 3], ['n_oligo', 's_oligo', 'n_oligo', 'd_oligo'], inplace=True)\n",
    "            df['sifilis'].replace([0, 1, 2, 3], ['n_sifilis', 's_sifilis', 'n_sifilis', 'd_sifilis'], inplace=True)\n",
    "            df['hiv'].replace([0, 1, 2, 3], ['n_hiv', 's_hiv', 'n_hiv', 'd_hiv'], inplace=True)\n",
    "            df['covid_mae'].replace([0, 1, 2, 3], ['n_covid', 's_covid', 'n_covid', 'd_covid'], inplace=True)\n",
    "\n",
    "            # Consolidações\n",
    "            df['dm'].replace([0,1,2,3,4,5,6], ['n_dm', 'n_dm','s_dm','s_dm', 's_dm','s_dm','d_dm'], inplace=True)\n",
    "\n",
    "        self.colnames = df.columns\n",
    "\n",
    "        return df"
   ],
   "metadata": {
    "collapsed": false,
    "pycharm": {
     "name": "#%%\n"
    }
   }
  },
  {
   "cell_type": "markdown",
   "source": [
    "### 5.3. Criação da Classe **NumericalTransformer**"
   ],
   "metadata": {
    "collapsed": false,
    "pycharm": {
     "name": "#%% md\n"
    }
   }
  },
  {
   "cell_type": "code",
   "execution_count": 41,
   "outputs": [],
   "source": [
    "class NumericalTransformer(BaseEstimator, TransformerMixin):\n",
    "    # Tipos de scalers\n",
    "    # model 0: minmax\n",
    "    # model 1: standard\n",
    "    # model 2: without scaler\n",
    "    def __init__(self, model=0, colnames=None):\n",
    "        self.model = model\n",
    "        self.colnames = colnames\n",
    "        self.scaler = None\n",
    "\n",
    "    def fit(self, X, y=None):\n",
    "        df = pd.DataFrame(X, columns=self.colnames)\n",
    "        # minmax\n",
    "        if self.model == 0:\n",
    "            self.scaler = MinMaxScaler()\n",
    "            self.scaler.fit(df)\n",
    "        # standard scaler\n",
    "        elif self.model == 1:\n",
    "            self.scaler = StandardScaler()\n",
    "            self.scaler.fit(df)\n",
    "        return self\n",
    "\n",
    "    def get_feature_names_out(self):\n",
    "        return self.colnames\n",
    "\n",
    "    def transform(self, X, y=None):\n",
    "        df = pd.DataFrame(X, columns=self.colnames)\n",
    "\n",
    "        # update columns name\n",
    "        self.colnames = df.columns.tolist()\n",
    "\n",
    "        # minmax\n",
    "        if self.model == 0:\n",
    "            # transform data\n",
    "            df = self.scaler.transform(df)\n",
    "        elif self.model == 1:\n",
    "            # transform data\n",
    "            df = self.scaler.transform(df)\n",
    "        else:\n",
    "            df = df.values\n",
    "\n",
    "        return df"
   ],
   "metadata": {
    "collapsed": false,
    "pycharm": {
     "name": "#%%\n"
    }
   }
  },
  {
   "cell_type": "code",
   "execution_count": 42,
   "outputs": [
    {
     "data": {
      "text/plain": "     idade_materna\n0             20.0\n1             21.0\n2             16.0\n3             40.0\n4             24.0\n..             ...\n498           35.0\n499           29.0\n500           31.0\n501           27.0\n502           23.0\n\n[503 rows x 1 columns]",
      "text/html": "<div>\n<style scoped>\n    .dataframe tbody tr th:only-of-type {\n        vertical-align: middle;\n    }\n\n    .dataframe tbody tr th {\n        vertical-align: top;\n    }\n\n    .dataframe thead th {\n        text-align: right;\n    }\n</style>\n<table border=\"1\" class=\"dataframe\">\n  <thead>\n    <tr style=\"text-align: right;\">\n      <th></th>\n      <th>idade_materna</th>\n    </tr>\n  </thead>\n  <tbody>\n    <tr>\n      <th>0</th>\n      <td>20.0</td>\n    </tr>\n    <tr>\n      <th>1</th>\n      <td>21.0</td>\n    </tr>\n    <tr>\n      <th>2</th>\n      <td>16.0</td>\n    </tr>\n    <tr>\n      <th>3</th>\n      <td>40.0</td>\n    </tr>\n    <tr>\n      <th>4</th>\n      <td>24.0</td>\n    </tr>\n    <tr>\n      <th>...</th>\n      <td>...</td>\n    </tr>\n    <tr>\n      <th>498</th>\n      <td>35.0</td>\n    </tr>\n    <tr>\n      <th>499</th>\n      <td>29.0</td>\n    </tr>\n    <tr>\n      <th>500</th>\n      <td>31.0</td>\n    </tr>\n    <tr>\n      <th>501</th>\n      <td>27.0</td>\n    </tr>\n    <tr>\n      <th>502</th>\n      <td>23.0</td>\n    </tr>\n  </tbody>\n</table>\n<p>503 rows × 1 columns</p>\n</div>"
     },
     "execution_count": 42,
     "metadata": {},
     "output_type": "execute_result"
    }
   ],
   "source": [
    "fs = FeatureSelector(df_total.select_dtypes(\"float64\").columns.to_list())\n",
    "df = fs.fit_transform(df_total)\n",
    "df"
   ],
   "metadata": {
    "collapsed": false,
    "pycharm": {
     "name": "#%%\n"
    }
   }
  },
  {
   "cell_type": "code",
   "execution_count": 43,
   "outputs": [
    {
     "data": {
      "text/plain": "array([[-1.09089501],\n       [-0.95288692],\n       [-1.6429274 ],\n       [ 1.66926691],\n       [-0.53886263],\n       [-1.22890311],\n       [ 0.56520214],\n       [-0.53886263],\n       [-0.95288692],\n       [-0.40085453],\n       [ 1.11723453],\n       [-0.53886263],\n       [-0.95288692],\n       [ 0.70321024],\n       [-1.3669112 ],\n       [ 1.11723453],\n       [-1.3669112 ],\n       [ 1.80727501],\n       [ 0.01316976],\n       [ 0.28918595],\n       [-0.53886263],\n       [-1.3669112 ],\n       [ 0.56520214],\n       [-0.12483834],\n       [ 0.42719405],\n       [ 1.53125882],\n       [-0.12483834],\n       [ 0.56520214],\n       [ 0.56520214],\n       [-1.6429274 ],\n       [-0.40085453],\n       [-0.26284643],\n       [-0.26284643],\n       [ 0.15117785],\n       [ 0.28918595],\n       [-0.95288692],\n       [ 0.15117785],\n       [-0.40085453],\n       [-1.78093549],\n       [ 0.84121834],\n       [-1.3669112 ],\n       [ 0.01316976],\n       [-1.3669112 ],\n       [-1.09089501],\n       [ 1.53125882],\n       [ 0.28918595],\n       [-0.40085453],\n       [-0.81487882],\n       [ 2.0832912 ],\n       [-0.81487882],\n       [ 0.97922643],\n       [ 0.28918595],\n       [ 0.01316976],\n       [ 0.97922643],\n       [ 0.15117785],\n       [ 0.01316976],\n       [-1.3669112 ],\n       [ 0.97922643],\n       [ 0.01316976],\n       [-1.3669112 ],\n       [ 0.84121834],\n       [ 0.42719405],\n       [-1.22890311],\n       [-0.81487882],\n       [-1.91894359],\n       [-1.91894359],\n       [ 0.97922643],\n       [ 0.97922643],\n       [-1.3669112 ],\n       [ 0.84121834],\n       [ 1.39325072],\n       [-1.09089501],\n       [ 0.70321024],\n       [ 1.11723453],\n       [ 1.80727501],\n       [-0.53886263],\n       [-0.40085453],\n       [-0.40085453],\n       [-0.40085453],\n       [-0.53886263],\n       [ 0.28918595],\n       [ 0.97922643],\n       [ 0.97922643],\n       [-0.12483834],\n       [ 1.94528311],\n       [ 1.39325072],\n       [ 1.25524263],\n       [ 0.42719405],\n       [ 0.97922643],\n       [-0.12483834],\n       [-0.81487882],\n       [-1.09089501],\n       [ 1.94528311],\n       [-0.26284643],\n       [-1.5049193 ],\n       [-0.67687072],\n       [-0.81487882],\n       [ 1.53125882],\n       [-0.40085453],\n       [ 0.84121834],\n       [ 0.15117785],\n       [-1.22890311],\n       [-0.81487882],\n       [-0.81487882],\n       [ 0.01316976],\n       [-0.53886263],\n       [-1.3669112 ],\n       [ 1.39325072],\n       [ 0.28918595],\n       [-1.09089501],\n       [-0.12483834],\n       [ 0.01316976],\n       [ 0.97922643],\n       [-0.67687072],\n       [-0.67687072],\n       [ 0.01316976],\n       [-1.22890311],\n       [ 1.66926691],\n       [ 1.80727501],\n       [-1.3669112 ],\n       [-0.12483834],\n       [-0.40085453],\n       [-0.40085453],\n       [-1.78093549],\n       [-0.95288692],\n       [-1.3669112 ],\n       [ 0.42719405],\n       [-1.09089501],\n       [ 0.84121834],\n       [-0.40085453],\n       [-0.81487882],\n       [-0.53886263],\n       [ 0.01316976],\n       [ 0.01316976],\n       [ 0.01316976],\n       [ 0.70321024],\n       [-1.6429274 ],\n       [ 0.01316976],\n       [ 0.01316976],\n       [ 0.56520214],\n       [-2.05695169],\n       [-0.40085453],\n       [-0.67687072],\n       [ 0.01316976],\n       [ 0.01316976],\n       [ 0.15117785],\n       [ 1.25524263],\n       [ 1.25524263],\n       [-1.78093549],\n       [-0.95288692],\n       [ 0.84121834],\n       [-1.78093549],\n       [ 0.84121834],\n       [-1.78093549],\n       [ 0.01316976],\n       [ 1.11723453],\n       [ 2.3593074 ],\n       [ 0.97922643],\n       [ 0.70321024],\n       [ 1.53125882],\n       [ 0.01316976],\n       [-1.78093549],\n       [ 1.25524263],\n       [ 0.70321024],\n       [-0.40085453],\n       [-0.53886263],\n       [-0.81487882],\n       [ 0.84121834],\n       [ 0.15117785],\n       [ 0.28918595],\n       [ 0.70321024],\n       [-1.5049193 ],\n       [-0.40085453],\n       [-0.26284643],\n       [-0.53886263],\n       [-1.6429274 ],\n       [ 0.56520214],\n       [ 0.56520214],\n       [ 1.11723453],\n       [ 0.97922643],\n       [-0.40085453],\n       [ 0.84121834],\n       [ 0.70321024],\n       [ 0.15117785],\n       [-1.3669112 ],\n       [ 0.15117785],\n       [-0.26284643],\n       [ 0.56520214],\n       [-0.26284643],\n       [ 0.97922643],\n       [-1.3669112 ],\n       [-0.67687072],\n       [-0.12483834],\n       [ 0.15117785],\n       [-0.12483834],\n       [-1.5049193 ],\n       [ 1.25524263],\n       [ 1.39325072],\n       [ 1.25524263],\n       [ 0.97922643],\n       [-0.26284643],\n       [ 0.84121834],\n       [ 0.42719405],\n       [ 0.28918595],\n       [-0.40085453],\n       [ 0.01316976],\n       [-0.53886263],\n       [-0.53886263],\n       [ 1.25524263],\n       [-0.40085453],\n       [ 0.28918595],\n       [-0.81487882],\n       [ 1.80727501],\n       [ 1.94528311],\n       [ 1.94528311],\n       [-0.40085453],\n       [-0.81487882],\n       [ 0.84121834],\n       [ 0.01316976],\n       [-0.53886263],\n       [ 0.97922643],\n       [-0.95288692],\n       [-1.22890311],\n       [-0.81487882],\n       [-1.22890311],\n       [-0.53886263],\n       [-1.22890311],\n       [-0.40085453],\n       [ 0.84121834],\n       [ 1.39325072],\n       [ 1.53125882],\n       [ 0.01316976],\n       [-0.53886263],\n       [ 1.25524263],\n       [-0.67687072],\n       [ 1.11723453],\n       [-0.67687072],\n       [ 1.53125882],\n       [ 0.84121834],\n       [ 0.28918595],\n       [-0.53886263],\n       [ 0.01316976],\n       [-0.26284643],\n       [ 1.39325072],\n       [ 0.84121834],\n       [ 0.01316976],\n       [ 0.84121834],\n       [ 0.01316976],\n       [-1.3669112 ],\n       [ 0.15117785],\n       [-0.26284643],\n       [-0.26284643],\n       [-0.95288692],\n       [ 1.39325072],\n       [ 1.80727501],\n       [-1.09089501],\n       [ 0.15117785],\n       [ 0.01316976],\n       [-0.40085453],\n       [ 0.01316976],\n       [-0.95288692],\n       [-1.09089501],\n       [ 1.25524263],\n       [-0.26284643],\n       [-0.81487882],\n       [-0.81487882],\n       [ 0.15117785],\n       [ 1.39325072],\n       [-0.95288692],\n       [ 0.56520214],\n       [ 0.70321024],\n       [-1.22890311],\n       [-1.22890311],\n       [-0.95288692],\n       [ 1.39325072],\n       [ 0.70321024],\n       [-0.40085453],\n       [-0.95288692],\n       [ 1.53125882],\n       [-1.09089501],\n       [ 0.84121834],\n       [-0.81487882],\n       [ 0.42719405],\n       [ 0.70321024],\n       [-0.67687072],\n       [ 0.70321024],\n       [ 0.01316976],\n       [ 0.28918595],\n       [ 1.39325072],\n       [-0.26284643],\n       [-0.81487882],\n       [-1.22890311],\n       [ 0.84121834],\n       [-0.12483834],\n       [ 0.15117785],\n       [ 0.70321024],\n       [-0.67687072],\n       [ 0.70321024],\n       [-0.67687072],\n       [ 0.42719405],\n       [-1.3669112 ],\n       [-0.81487882],\n       [-1.09089501],\n       [ 1.11723453],\n       [-0.12483834],\n       [-1.6429274 ],\n       [ 0.97922643],\n       [ 0.70321024],\n       [ 0.56520214],\n       [-1.6429274 ],\n       [-0.40085453],\n       [-0.53886263],\n       [-0.95288692],\n       [-1.3669112 ],\n       [-0.26284643],\n       [ 0.97922643],\n       [-1.5049193 ],\n       [ 0.42719405],\n       [-0.12483834],\n       [ 1.80727501],\n       [ 0.28918595],\n       [ 1.94528311],\n       [-0.95288692],\n       [ 0.97922643],\n       [ 0.97922643],\n       [-0.67687072],\n       [ 0.70321024],\n       [-0.53886263],\n       [ 0.42719405],\n       [ 0.84121834],\n       [-1.91894359],\n       [ 0.28918595],\n       [-0.26284643],\n       [ 0.56520214],\n       [ 1.53125882],\n       [-0.67687072],\n       [ 0.84121834],\n       [ 0.56520214],\n       [-0.12483834],\n       [ 0.97922643],\n       [-0.26284643],\n       [-0.40085453],\n       [ 1.25524263],\n       [ 1.11723453],\n       [-1.22890311],\n       [ 0.42719405],\n       [-0.53886263],\n       [ 0.70321024],\n       [-0.26284643],\n       [-1.09089501],\n       [ 1.25524263],\n       [ 1.53125882],\n       [-0.67687072],\n       [-0.81487882],\n       [ 0.42719405],\n       [ 1.25524263],\n       [-0.26284643],\n       [-1.09089501],\n       [ 0.97922643],\n       [-0.95288692],\n       [-0.81487882],\n       [-1.5049193 ],\n       [-1.22890311],\n       [-0.95288692],\n       [-0.81487882],\n       [-0.67687072],\n       [-1.6429274 ],\n       [ 0.15117785],\n       [ 0.56520214],\n       [-0.95288692],\n       [-0.95288692],\n       [ 0.70321024],\n       [ 0.28918595],\n       [ 0.97922643],\n       [ 1.80727501],\n       [ 0.01316976],\n       [-0.53886263],\n       [ 0.56520214],\n       [-0.12483834],\n       [-0.12483834],\n       [ 1.94528311],\n       [ 0.01316976],\n       [-1.5049193 ],\n       [-1.09089501],\n       [-0.95288692],\n       [ 0.97922643],\n       [ 1.11723453],\n       [ 0.56520214],\n       [-0.26284643],\n       [-0.81487882],\n       [ 0.28918595],\n       [-0.40085453],\n       [-1.3669112 ],\n       [-1.6429274 ],\n       [-1.09089501],\n       [ 0.56520214],\n       [ 0.70321024],\n       [-0.40085453],\n       [-1.6429274 ],\n       [ 0.97922643],\n       [ 2.0832912 ],\n       [ 0.28918595],\n       [ 0.15117785],\n       [ 0.42719405],\n       [-0.26284643],\n       [ 0.42719405],\n       [ 1.25524263],\n       [ 0.70321024],\n       [ 0.70321024],\n       [-1.3669112 ],\n       [-1.6429274 ],\n       [-0.81487882],\n       [-1.22890311],\n       [ 0.97922643],\n       [ 0.84121834],\n       [ 2.2212993 ],\n       [-1.3669112 ],\n       [-0.53886263],\n       [ 0.56520214],\n       [ 0.01316976],\n       [-1.22890311],\n       [-1.78093549],\n       [ 0.97922643],\n       [ 0.01316976],\n       [-1.6429274 ],\n       [-0.81487882],\n       [ 0.70321024],\n       [ 1.53125882],\n       [ 1.25524263],\n       [-0.95288692],\n       [ 0.84121834],\n       [-0.81487882],\n       [-0.95288692],\n       [-0.12483834],\n       [ 1.80727501],\n       [-1.22890311],\n       [-0.12483834],\n       [ 1.66926691],\n       [ 1.80727501],\n       [ 1.25524263],\n       [ 0.70321024],\n       [ 2.3593074 ],\n       [ 0.28918595],\n       [ 0.01316976],\n       [ 0.01316976],\n       [-0.26284643],\n       [-0.12483834],\n       [-0.12483834],\n       [ 0.84121834],\n       [-1.6429274 ],\n       [-0.12483834],\n       [ 1.53125882],\n       [ 1.66926691],\n       [-2.05695169],\n       [ 0.97922643],\n       [ 1.11723453],\n       [ 1.39325072],\n       [ 0.42719405],\n       [ 2.2212993 ],\n       [-0.67687072],\n       [-1.09089501],\n       [ 1.11723453],\n       [ 0.42719405],\n       [ 0.56520214],\n       [-2.19495978],\n       [-0.67687072],\n       [ 0.56520214],\n       [-0.81487882],\n       [-0.40085453],\n       [ 0.56520214],\n       [-0.67687072],\n       [-0.53886263],\n       [-0.26284643],\n       [-0.26284643],\n       [ 1.39325072],\n       [-0.81487882],\n       [-0.95288692],\n       [-0.40085453],\n       [-0.67687072],\n       [-1.5049193 ],\n       [-2.05695169],\n       [-1.5049193 ],\n       [ 0.42719405],\n       [ 1.66926691],\n       [ 0.97922643],\n       [ 0.28918595],\n       [ 1.39325072],\n       [ 0.70321024],\n       [ 1.11723453],\n       [ 1.66926691],\n       [ 0.84121834],\n       [-0.81487882],\n       [-1.78093549],\n       [ 1.25524263],\n       [-1.78093549],\n       [-0.67687072],\n       [ 1.80727501],\n       [-0.95288692],\n       [ 0.97922643],\n       [ 0.15117785],\n       [ 0.42719405],\n       [-0.12483834],\n       [-0.67687072]])"
     },
     "execution_count": 43,
     "metadata": {},
     "output_type": "execute_result"
    }
   ],
   "source": [
    "nt = NumericalTransformer(model=1, colnames=df.columns.to_list())\n",
    "df_nt = nt.fit_transform(df)\n",
    "df_nt"
   ],
   "metadata": {
    "collapsed": false,
    "pycharm": {
     "name": "#%%\n"
    }
   }
  },
  {
   "cell_type": "markdown",
   "source": [
    "### 6.4. Encadeamento"
   ],
   "metadata": {
    "collapsed": false,
    "pycharm": {
     "name": "#%% md\n"
    }
   }
  },
  {
   "cell_type": "code",
   "execution_count": 44,
   "outputs": [],
   "source": [
    "# Tipos de scalers = 0 (min-max), 1 (z-score), 2 (without normalization)\n",
    "numerical_model = 0\n",
    "\n",
    "# Features categóricas\n",
    "categorical_features = df_features.select_dtypes(\"object\").columns.to_list()\n",
    "\n",
    "# Features numéricas\n",
    "numerical_features = df_features.select_dtypes(\"float64\").columns.to_list()\n",
    "\n",
    "# A parte de preenchimento de dados faltantes já é realizada pela classe CategoricalTransformer\n",
    "categorical_pipeline = Pipeline(steps=[('cat_selector', FeatureSelector(categorical_features)),\n",
    "                                       ('cat_transformer', CategoricalTransformer(colnames=categorical_features)),\n",
    "                                       ('cat_encoder', OneHotEncoder(sparse=False, drop=\"first\"))\n",
    "                                       ]\n",
    "                                )\n",
    "\n",
    "# A parte de preenchimento de dados faltantes já é realizada pela classe NumericalTransformer\n",
    "numerical_pipeline = Pipeline(steps=[('num_selector', FeatureSelector(numerical_features)),\n",
    "                                     ('num_transformer', NumericalTransformer(numerical_model,\n",
    "                                                                              colnames=numerical_features))])\n",
    "\n",
    "# Reune os Pipelines num só\n",
    "full_pipeline_preprocessing = FeatureUnion(transformer_list=[('cat_pipeline', categorical_pipeline),\n",
    "                                                             ('num_pipeline', numerical_pipeline)])"
   ],
   "metadata": {
    "collapsed": false,
    "pycharm": {
     "name": "#%%\n"
    }
   }
  },
  {
   "cell_type": "code",
   "execution_count": 45,
   "outputs": [],
   "source": [
    "features_set = full_pipeline_preprocessing.fit_transform(df_features)"
   ],
   "metadata": {
    "collapsed": false,
    "pycharm": {
     "name": "#%%\n"
    }
   }
  },
  {
   "cell_type": "code",
   "execution_count": 46,
   "outputs": [
    {
     "data": {
      "text/plain": "   fumo_n_fumo  fumo_s_fumo  alcool_n_alcool  alcool_s_alcool  \\\n0          1.0          0.0              1.0              0.0   \n1          1.0          0.0              1.0              0.0   \n2          1.0          0.0              1.0              0.0   \n3          1.0          0.0              1.0              0.0   \n4          1.0          0.0              1.0              0.0   \n\n   psicoativas_n_psico  psicoativas_s_psico  tpp_n_tpp  tpp_s_tpp  dpp_n_dpp  \\\n0                  1.0                  0.0        1.0        0.0        1.0   \n1                  1.0                  0.0        1.0        0.0        1.0   \n2                  1.0                  0.0        1.0        0.0        1.0   \n3                  1.0                  0.0        1.0        0.0        1.0   \n4                  1.0                  0.0        1.0        0.0        0.0   \n\n   dpp_s_dpp  ...  hiv_n_hiv  hiv_s_hiv  covid_mae_n_covid  covid_mae_s_covid  \\\n0        0.0  ...        0.0        0.0                1.0                0.0   \n1        0.0  ...        1.0        0.0                1.0                0.0   \n2        0.0  ...        1.0        0.0                1.0                0.0   \n3        0.0  ...        1.0        0.0                1.0                0.0   \n4        1.0  ...        1.0        0.0                1.0                0.0   \n\n   dheg_n_dheg  dheg_s_dheg  dm_n_dm  dm_s_dm  sexo_Masculino  idade_materna  \n0          1.0          0.0      1.0      0.0             1.0       0.242424  \n1          1.0          0.0      1.0      0.0             0.0       0.272727  \n2          0.0          1.0      0.0      0.0             1.0       0.121212  \n3          0.0          1.0      1.0      0.0             0.0       0.848485  \n4          0.0          1.0      1.0      0.0             1.0       0.363636  \n\n[5 rows x 24 columns]",
      "text/html": "<div>\n<style scoped>\n    .dataframe tbody tr th:only-of-type {\n        vertical-align: middle;\n    }\n\n    .dataframe tbody tr th {\n        vertical-align: top;\n    }\n\n    .dataframe thead th {\n        text-align: right;\n    }\n</style>\n<table border=\"1\" class=\"dataframe\">\n  <thead>\n    <tr style=\"text-align: right;\">\n      <th></th>\n      <th>fumo_n_fumo</th>\n      <th>fumo_s_fumo</th>\n      <th>alcool_n_alcool</th>\n      <th>alcool_s_alcool</th>\n      <th>psicoativas_n_psico</th>\n      <th>psicoativas_s_psico</th>\n      <th>tpp_n_tpp</th>\n      <th>tpp_s_tpp</th>\n      <th>dpp_n_dpp</th>\n      <th>dpp_s_dpp</th>\n      <th>...</th>\n      <th>hiv_n_hiv</th>\n      <th>hiv_s_hiv</th>\n      <th>covid_mae_n_covid</th>\n      <th>covid_mae_s_covid</th>\n      <th>dheg_n_dheg</th>\n      <th>dheg_s_dheg</th>\n      <th>dm_n_dm</th>\n      <th>dm_s_dm</th>\n      <th>sexo_Masculino</th>\n      <th>idade_materna</th>\n    </tr>\n  </thead>\n  <tbody>\n    <tr>\n      <th>0</th>\n      <td>1.0</td>\n      <td>0.0</td>\n      <td>1.0</td>\n      <td>0.0</td>\n      <td>1.0</td>\n      <td>0.0</td>\n      <td>1.0</td>\n      <td>0.0</td>\n      <td>1.0</td>\n      <td>0.0</td>\n      <td>...</td>\n      <td>0.0</td>\n      <td>0.0</td>\n      <td>1.0</td>\n      <td>0.0</td>\n      <td>1.0</td>\n      <td>0.0</td>\n      <td>1.0</td>\n      <td>0.0</td>\n      <td>1.0</td>\n      <td>0.242424</td>\n    </tr>\n    <tr>\n      <th>1</th>\n      <td>1.0</td>\n      <td>0.0</td>\n      <td>1.0</td>\n      <td>0.0</td>\n      <td>1.0</td>\n      <td>0.0</td>\n      <td>1.0</td>\n      <td>0.0</td>\n      <td>1.0</td>\n      <td>0.0</td>\n      <td>...</td>\n      <td>1.0</td>\n      <td>0.0</td>\n      <td>1.0</td>\n      <td>0.0</td>\n      <td>1.0</td>\n      <td>0.0</td>\n      <td>1.0</td>\n      <td>0.0</td>\n      <td>0.0</td>\n      <td>0.272727</td>\n    </tr>\n    <tr>\n      <th>2</th>\n      <td>1.0</td>\n      <td>0.0</td>\n      <td>1.0</td>\n      <td>0.0</td>\n      <td>1.0</td>\n      <td>0.0</td>\n      <td>1.0</td>\n      <td>0.0</td>\n      <td>1.0</td>\n      <td>0.0</td>\n      <td>...</td>\n      <td>1.0</td>\n      <td>0.0</td>\n      <td>1.0</td>\n      <td>0.0</td>\n      <td>0.0</td>\n      <td>1.0</td>\n      <td>0.0</td>\n      <td>0.0</td>\n      <td>1.0</td>\n      <td>0.121212</td>\n    </tr>\n    <tr>\n      <th>3</th>\n      <td>1.0</td>\n      <td>0.0</td>\n      <td>1.0</td>\n      <td>0.0</td>\n      <td>1.0</td>\n      <td>0.0</td>\n      <td>1.0</td>\n      <td>0.0</td>\n      <td>1.0</td>\n      <td>0.0</td>\n      <td>...</td>\n      <td>1.0</td>\n      <td>0.0</td>\n      <td>1.0</td>\n      <td>0.0</td>\n      <td>0.0</td>\n      <td>1.0</td>\n      <td>1.0</td>\n      <td>0.0</td>\n      <td>0.0</td>\n      <td>0.848485</td>\n    </tr>\n    <tr>\n      <th>4</th>\n      <td>1.0</td>\n      <td>0.0</td>\n      <td>1.0</td>\n      <td>0.0</td>\n      <td>1.0</td>\n      <td>0.0</td>\n      <td>1.0</td>\n      <td>0.0</td>\n      <td>0.0</td>\n      <td>1.0</td>\n      <td>...</td>\n      <td>1.0</td>\n      <td>0.0</td>\n      <td>1.0</td>\n      <td>0.0</td>\n      <td>0.0</td>\n      <td>1.0</td>\n      <td>1.0</td>\n      <td>0.0</td>\n      <td>1.0</td>\n      <td>0.363636</td>\n    </tr>\n  </tbody>\n</table>\n<p>5 rows × 24 columns</p>\n</div>"
     },
     "execution_count": 46,
     "metadata": {},
     "output_type": "execute_result"
    }
   ],
   "source": [
    "num_names = full_pipeline_preprocessing.get_params()['num_pipeline'][1].get_feature_names_out()\n",
    "cat_names = list(full_pipeline_preprocessing.get_params()['cat_pipeline'][2].get_feature_names_out())\n",
    "df_train_set = pd.DataFrame(features_set, columns=cat_names+num_names)\n",
    "df_train_set.head()"
   ],
   "metadata": {
    "collapsed": false,
    "pycharm": {
     "name": "#%%\n"
    }
   }
  },
  {
   "cell_type": "code",
   "execution_count": 47,
   "outputs": [
    {
     "name": "stdout",
     "output_type": "stream",
     "text": [
      "<class 'pandas.core.frame.DataFrame'>\n",
      "RangeIndex: 503 entries, 0 to 502\n",
      "Data columns (total 24 columns):\n",
      " #   Column               Non-Null Count  Dtype  \n",
      "---  ------               --------------  -----  \n",
      " 0   fumo_n_fumo          503 non-null    float64\n",
      " 1   fumo_s_fumo          503 non-null    float64\n",
      " 2   alcool_n_alcool      503 non-null    float64\n",
      " 3   alcool_s_alcool      503 non-null    float64\n",
      " 4   psicoativas_n_psico  503 non-null    float64\n",
      " 5   psicoativas_s_psico  503 non-null    float64\n",
      " 6   tpp_n_tpp            503 non-null    float64\n",
      " 7   tpp_s_tpp            503 non-null    float64\n",
      " 8   dpp_n_dpp            503 non-null    float64\n",
      " 9   dpp_s_dpp            503 non-null    float64\n",
      " 10  oligoamnio_n_oligo   503 non-null    float64\n",
      " 11  oligoamnio_s_oligo   503 non-null    float64\n",
      " 12  sifilis_n_sifilis    503 non-null    float64\n",
      " 13  sifilis_s_sifilis    503 non-null    float64\n",
      " 14  hiv_n_hiv            503 non-null    float64\n",
      " 15  hiv_s_hiv            503 non-null    float64\n",
      " 16  covid_mae_n_covid    503 non-null    float64\n",
      " 17  covid_mae_s_covid    503 non-null    float64\n",
      " 18  dheg_n_dheg          503 non-null    float64\n",
      " 19  dheg_s_dheg          503 non-null    float64\n",
      " 20  dm_n_dm              503 non-null    float64\n",
      " 21  dm_s_dm              503 non-null    float64\n",
      " 22  sexo_Masculino       503 non-null    float64\n",
      " 23  idade_materna        503 non-null    float64\n",
      "dtypes: float64(24)\n",
      "memory usage: 94.4 KB\n"
     ]
    }
   ],
   "source": [
    "df_train_set.info()"
   ],
   "metadata": {
    "collapsed": false,
    "pycharm": {
     "name": "#%%\n"
    }
   }
  },
  {
   "cell_type": "markdown",
   "source": [
    "## 7. *Upload* de Artefato Final"
   ],
   "metadata": {
    "collapsed": false,
    "pycharm": {
     "name": "#%% md\n"
    }
   }
  },
  {
   "cell_type": "markdown",
   "source": [
    "Concatenação de *datasets*"
   ],
   "metadata": {
    "collapsed": false,
    "pycharm": {
     "name": "#%% md\n"
    }
   }
  },
  {
   "cell_type": "code",
   "execution_count": 48,
   "outputs": [],
   "source": [
    "df_target_set = pd.DataFrame(df_target, columns=['reanimacao'])"
   ],
   "metadata": {
    "collapsed": false,
    "pycharm": {
     "name": "#%%\n"
    }
   }
  },
  {
   "cell_type": "code",
   "execution_count": 49,
   "outputs": [],
   "source": [
    "df_target_set.reset_index(drop=True, inplace=True)"
   ],
   "metadata": {
    "collapsed": false,
    "pycharm": {
     "name": "#%%\n"
    }
   }
  },
  {
   "cell_type": "code",
   "execution_count": 50,
   "outputs": [
    {
     "data": {
      "text/plain": "     reanimacao\n0             0\n1             1\n2             1\n3             0\n4             0\n..          ...\n498           1\n499           1\n500           1\n501           0\n502           1\n\n[503 rows x 1 columns]",
      "text/html": "<div>\n<style scoped>\n    .dataframe tbody tr th:only-of-type {\n        vertical-align: middle;\n    }\n\n    .dataframe tbody tr th {\n        vertical-align: top;\n    }\n\n    .dataframe thead th {\n        text-align: right;\n    }\n</style>\n<table border=\"1\" class=\"dataframe\">\n  <thead>\n    <tr style=\"text-align: right;\">\n      <th></th>\n      <th>reanimacao</th>\n    </tr>\n  </thead>\n  <tbody>\n    <tr>\n      <th>0</th>\n      <td>0</td>\n    </tr>\n    <tr>\n      <th>1</th>\n      <td>1</td>\n    </tr>\n    <tr>\n      <th>2</th>\n      <td>1</td>\n    </tr>\n    <tr>\n      <th>3</th>\n      <td>0</td>\n    </tr>\n    <tr>\n      <th>4</th>\n      <td>0</td>\n    </tr>\n    <tr>\n      <th>...</th>\n      <td>...</td>\n    </tr>\n    <tr>\n      <th>498</th>\n      <td>1</td>\n    </tr>\n    <tr>\n      <th>499</th>\n      <td>1</td>\n    </tr>\n    <tr>\n      <th>500</th>\n      <td>1</td>\n    </tr>\n    <tr>\n      <th>501</th>\n      <td>0</td>\n    </tr>\n    <tr>\n      <th>502</th>\n      <td>1</td>\n    </tr>\n  </tbody>\n</table>\n<p>503 rows × 1 columns</p>\n</div>"
     },
     "execution_count": 50,
     "metadata": {},
     "output_type": "execute_result"
    }
   ],
   "source": [
    "df_target_set"
   ],
   "metadata": {
    "collapsed": false,
    "pycharm": {
     "name": "#%%\n"
    }
   }
  },
  {
   "cell_type": "code",
   "execution_count": 51,
   "outputs": [],
   "source": [
    "df_final = pd.concat([df_train_set, df_target_set], axis=1)"
   ],
   "metadata": {
    "collapsed": false,
    "pycharm": {
     "name": "#%%\n"
    }
   }
  },
  {
   "cell_type": "code",
   "execution_count": 52,
   "outputs": [
    {
     "data": {
      "text/plain": "array([0, 1])"
     },
     "execution_count": 52,
     "metadata": {},
     "output_type": "execute_result"
    }
   ],
   "source": [
    "df_final['reanimacao'].unique()"
   ],
   "metadata": {
    "collapsed": false,
    "pycharm": {
     "name": "#%%\n"
    }
   }
  },
  {
   "cell_type": "code",
   "execution_count": 53,
   "outputs": [],
   "source": [
    "df_final.to_csv('df_rean.csv')"
   ],
   "metadata": {
    "collapsed": false,
    "pycharm": {
     "name": "#%%\n"
    }
   }
  },
  {
   "cell_type": "code",
   "execution_count": 54,
   "outputs": [
    {
     "name": "stdout",
     "output_type": "stream",
     "text": [
      "\u001B[34m\u001B[1mwandb\u001B[0m: Uploading file df_rean.csv to: \"ecalasans/mlprojfinal/df_rean.csv:latest\" (rean_joined)\r\n",
      "\u001B[34m\u001B[1mwandb\u001B[0m: Currently logged in as: \u001B[33mecalasans\u001B[0m. Use \u001B[1m`wandb login --relogin`\u001B[0m to force relogin\r\n",
      "\u001B[34m\u001B[1mwandb\u001B[0m: Tracking run with wandb version 0.12.21\r\n",
      "\u001B[34m\u001B[1mwandb\u001B[0m: Run data is saved locally in \u001B[35m\u001B[1m/Users/ericcalasans/Documents/Projetos/mlprojfinal/wandb/run-20220722_134304-2l5ossn3\u001B[0m\r\n",
      "\u001B[34m\u001B[1mwandb\u001B[0m: Run \u001B[1m`wandb offline`\u001B[0m to turn off syncing.\r\n",
      "\u001B[34m\u001B[1mwandb\u001B[0m: Syncing run \u001B[33mfirm-dew-28\u001B[0m\r\n",
      "\u001B[34m\u001B[1mwandb\u001B[0m: ⭐️ View project at \u001B[34m\u001B[4mhttps://wandb.ai/ecalasans/mlprojfinal\u001B[0m\r\n",
      "\u001B[34m\u001B[1mwandb\u001B[0m: 🚀 View run at \u001B[34m\u001B[4mhttps://wandb.ai/ecalasans/mlprojfinal/runs/2l5ossn3\u001B[0m\r\n",
      "Artifact uploaded, use this artifact in a run by adding:\r\n",
      "\r\n",
      "    artifact = run.use_artifact(\"ecalasans/mlprojfinal/df_rean.csv:latest\")\r\n",
      "\r\n",
      "\u001B[34m\u001B[1mwandb\u001B[0m: Waiting for W&B process to finish... \u001B[32m(success).\u001B[0m\r\n",
      "\u001B[34m\u001B[1mwandb\u001B[0m:                                                                                \r\n",
      "\u001B[34m\u001B[1mwandb\u001B[0m: Synced \u001B[33mfirm-dew-28\u001B[0m: \u001B[34m\u001B[4mhttps://wandb.ai/ecalasans/mlprojfinal/runs/2l5ossn3\u001B[0m\r\n",
      "\u001B[34m\u001B[1mwandb\u001B[0m: Synced 6 W&B file(s), 0 media file(s), 1 artifact file(s) and 0 other file(s)\r\n",
      "\u001B[34m\u001B[1mwandb\u001B[0m: Find logs at: \u001B[35m\u001B[1m./wandb/run-20220722_134304-2l5ossn3/logs\u001B[0m\r\n"
     ]
    }
   ],
   "source": [
    "!wandb artifact put --name mlprojfinal/df_rean.csv --type rean_joined --description \"Full coded dataset\" df_rean.csv"
   ],
   "metadata": {
    "collapsed": false,
    "pycharm": {
     "name": "#%%\n"
    }
   }
  },
  {
   "cell_type": "code",
   "execution_count": 55,
   "outputs": [
    {
     "data": {
      "text/plain": "<IPython.core.display.HTML object>",
      "text/html": "Waiting for W&B process to finish... <strong style=\"color:green\">(success).</strong>"
     },
     "metadata": {},
     "output_type": "display_data"
    },
    {
     "data": {
      "text/plain": "VBox(children=(Label(value='0.001 MB of 0.001 MB uploaded (0.000 MB deduped)\\r'), FloatProgress(value=1.0, max…",
      "application/vnd.jupyter.widget-view+json": {
       "version_major": 2,
       "version_minor": 0,
       "model_id": "d188f7b6583e4e028f5098e30d318a7a"
      }
     },
     "metadata": {},
     "output_type": "display_data"
    },
    {
     "data": {
      "text/plain": "<IPython.core.display.HTML object>",
      "text/html": "Synced <strong style=\"color:#cdcd00\">wobbly-grass-232</strong>: <a href=\"https://wandb.ai/ecalasans/mlreanimacao/runs/382res56\" target=\"_blank\">https://wandb.ai/ecalasans/mlreanimacao/runs/382res56</a><br/>Synced 6 W&B file(s), 0 media file(s), 0 artifact file(s) and 0 other file(s)"
     },
     "metadata": {},
     "output_type": "display_data"
    },
    {
     "data": {
      "text/plain": "<IPython.core.display.HTML object>",
      "text/html": "Find logs at: <code>./wandb/run-20220722_134147-382res56/logs</code>"
     },
     "metadata": {},
     "output_type": "display_data"
    }
   ],
   "source": [
    "run.finish()"
   ],
   "metadata": {
    "collapsed": false,
    "pycharm": {
     "name": "#%%\n"
    }
   }
  },
  {
   "cell_type": "code",
   "execution_count": null,
   "outputs": [],
   "source": [],
   "metadata": {
    "collapsed": false,
    "pycharm": {
     "name": "#%%\n"
    }
   }
  }
 ],
 "metadata": {
  "kernelspec": {
   "display_name": "Python 3",
   "language": "python",
   "name": "python3"
  },
  "language_info": {
   "codemirror_mode": {
    "name": "ipython",
    "version": 2
   },
   "file_extension": ".py",
   "mimetype": "text/x-python",
   "name": "python",
   "nbconvert_exporter": "python",
   "pygments_lexer": "ipython2",
   "version": "2.7.6"
  }
 },
 "nbformat": 4,
 "nbformat_minor": 0
}